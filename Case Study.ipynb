{
 "cells": [
  {
   "cell_type": "code",
   "execution_count": 1,
   "id": "0ae55c94-7b3f-4734-87c1-93d71aa42beb",
   "metadata": {},
   "outputs": [],
   "source": [
    "import pandas as pd\n",
    "import numpy as np\n",
    "\n",
    "import seaborn as sns\n",
    "import matplotlib.pyplot as ply"
   ]
  },
  {
   "cell_type": "code",
   "execution_count": 2,
   "id": "67683715-bd80-4632-be74-a3190c5233f7",
   "metadata": {},
   "outputs": [],
   "source": [
    "demograh_data = pd.read_csv(\"data/demographics.csv\")\n",
    "transactions = pd.read_csv(\"data/transactions.csv\")\n",
    "telco_data = pd.read_csv(\"data/telco.csv\")\n",
    "repayment_history = pd.read_csv(\"data/repayment_history.csv\")"
   ]
  },
  {
   "cell_type": "code",
   "execution_count": 3,
   "id": "f2c1aa12-b9db-447f-8262-099252af08b5",
   "metadata": {},
   "outputs": [
    {
     "data": {
      "text/plain": [
       "((10000, 8), (68000, 5), (33000, 5), (18350, 6))"
      ]
     },
     "execution_count": 3,
     "metadata": {},
     "output_type": "execute_result"
    }
   ],
   "source": [
    "demograh_data.shape, transactions.shape, telco_data.shape, repayment_history.shape"
   ]
  },
  {
   "cell_type": "markdown",
   "id": "f169334c-32d8-47f6-89ea-f1136193ad39",
   "metadata": {},
   "source": [
    "# Data Cleaning"
   ]
  },
  {
   "cell_type": "markdown",
   "id": "781c110f-e1b2-4f4b-9127-ce1c64505f92",
   "metadata": {},
   "source": [
    "## Demographics data"
   ]
  },
  {
   "cell_type": "code",
   "execution_count": 4,
   "id": "2bb0dede-2834-4855-8f0e-6b4e011e50aa",
   "metadata": {},
   "outputs": [
    {
     "data": {
      "text/html": [
       "<div>\n",
       "<style scoped>\n",
       "    .dataframe tbody tr th:only-of-type {\n",
       "        vertical-align: middle;\n",
       "    }\n",
       "\n",
       "    .dataframe tbody tr th {\n",
       "        vertical-align: top;\n",
       "    }\n",
       "\n",
       "    .dataframe thead th {\n",
       "        text-align: right;\n",
       "    }\n",
       "</style>\n",
       "<table border=\"1\" class=\"dataframe\">\n",
       "  <thead>\n",
       "    <tr style=\"text-align: right;\">\n",
       "      <th></th>\n",
       "      <th>customer_id</th>\n",
       "      <th>age</th>\n",
       "      <th>gender</th>\n",
       "      <th>location</th>\n",
       "      <th>profession</th>\n",
       "      <th>is_rural</th>\n",
       "      <th>credit_score</th>\n",
       "      <th>high_activity</th>\n",
       "    </tr>\n",
       "  </thead>\n",
       "  <tbody>\n",
       "    <tr>\n",
       "      <th>0</th>\n",
       "      <td>ID_0</td>\n",
       "      <td>34.0</td>\n",
       "      <td>Male</td>\n",
       "      <td>South Dakota</td>\n",
       "      <td>Trader</td>\n",
       "      <td>True</td>\n",
       "      <td>442</td>\n",
       "      <td>True</td>\n",
       "    </tr>\n",
       "    <tr>\n",
       "      <th>1</th>\n",
       "      <td>ID_1</td>\n",
       "      <td>22.0</td>\n",
       "      <td>Male</td>\n",
       "      <td>Delaware</td>\n",
       "      <td>Engineer</td>\n",
       "      <td>True</td>\n",
       "      <td>619</td>\n",
       "      <td>False</td>\n",
       "    </tr>\n",
       "    <tr>\n",
       "      <th>2</th>\n",
       "      <td>ID_2</td>\n",
       "      <td>32.0</td>\n",
       "      <td>Male</td>\n",
       "      <td>Alaska</td>\n",
       "      <td>Engineer</td>\n",
       "      <td>True</td>\n",
       "      <td>389</td>\n",
       "      <td>True</td>\n",
       "    </tr>\n",
       "    <tr>\n",
       "      <th>3</th>\n",
       "      <td>ID_3</td>\n",
       "      <td>19.0</td>\n",
       "      <td>Male</td>\n",
       "      <td>West Virginia</td>\n",
       "      <td>Teacher</td>\n",
       "      <td>False</td>\n",
       "      <td>419</td>\n",
       "      <td>False</td>\n",
       "    </tr>\n",
       "    <tr>\n",
       "      <th>4</th>\n",
       "      <td>ID_4</td>\n",
       "      <td>46.0</td>\n",
       "      <td>Male</td>\n",
       "      <td>Louisiana</td>\n",
       "      <td>Farmer</td>\n",
       "      <td>True</td>\n",
       "      <td>626</td>\n",
       "      <td>True</td>\n",
       "    </tr>\n",
       "  </tbody>\n",
       "</table>\n",
       "</div>"
      ],
      "text/plain": [
       "  customer_id   age gender       location profession  is_rural  credit_score  \\\n",
       "0        ID_0  34.0   Male   South Dakota     Trader      True           442   \n",
       "1        ID_1  22.0   Male       Delaware   Engineer      True           619   \n",
       "2        ID_2  32.0   Male         Alaska   Engineer      True           389   \n",
       "3        ID_3  19.0   Male  West Virginia    Teacher     False           419   \n",
       "4        ID_4  46.0   Male      Louisiana     Farmer      True           626   \n",
       "\n",
       "   high_activity  \n",
       "0           True  \n",
       "1          False  \n",
       "2           True  \n",
       "3          False  \n",
       "4           True  "
      ]
     },
     "execution_count": 4,
     "metadata": {},
     "output_type": "execute_result"
    }
   ],
   "source": [
    "demograh_data.head()"
   ]
  },
  {
   "cell_type": "code",
   "execution_count": 5,
   "id": "4efeb409-7e27-4d0b-aa01-2e786edc4f81",
   "metadata": {},
   "outputs": [],
   "source": [
    "# drop credit_score and high_activity columns\n",
    "demograh_data.drop(['credit_score', 'high_activity'], axis=1, inplace=True)"
   ]
  },
  {
   "cell_type": "code",
   "execution_count": 6,
   "id": "2a05d45b-70ea-499b-80f1-7ac4988ddb6f",
   "metadata": {},
   "outputs": [
    {
     "data": {
      "text/html": [
       "<div>\n",
       "<style scoped>\n",
       "    .dataframe tbody tr th:only-of-type {\n",
       "        vertical-align: middle;\n",
       "    }\n",
       "\n",
       "    .dataframe tbody tr th {\n",
       "        vertical-align: top;\n",
       "    }\n",
       "\n",
       "    .dataframe thead th {\n",
       "        text-align: right;\n",
       "    }\n",
       "</style>\n",
       "<table border=\"1\" class=\"dataframe\">\n",
       "  <thead>\n",
       "    <tr style=\"text-align: right;\">\n",
       "      <th></th>\n",
       "      <th>customer_id</th>\n",
       "      <th>age</th>\n",
       "      <th>gender</th>\n",
       "      <th>location</th>\n",
       "      <th>profession</th>\n",
       "      <th>is_rural</th>\n",
       "    </tr>\n",
       "  </thead>\n",
       "  <tbody>\n",
       "    <tr>\n",
       "      <th>6223</th>\n",
       "      <td>ID_6223</td>\n",
       "      <td>29.0</td>\n",
       "      <td>Female</td>\n",
       "      <td>Rhode Island</td>\n",
       "      <td>Trader</td>\n",
       "      <td>True</td>\n",
       "    </tr>\n",
       "    <tr>\n",
       "      <th>9054</th>\n",
       "      <td>ID_9054</td>\n",
       "      <td>33.0</td>\n",
       "      <td>Female</td>\n",
       "      <td>Texas</td>\n",
       "      <td>Trader</td>\n",
       "      <td>True</td>\n",
       "    </tr>\n",
       "    <tr>\n",
       "      <th>6829</th>\n",
       "      <td>ID_6829</td>\n",
       "      <td>38.0</td>\n",
       "      <td>Female</td>\n",
       "      <td>Iowa</td>\n",
       "      <td>Trader</td>\n",
       "      <td>True</td>\n",
       "    </tr>\n",
       "    <tr>\n",
       "      <th>1376</th>\n",
       "      <td>ID_1376</td>\n",
       "      <td>38.0</td>\n",
       "      <td>Female</td>\n",
       "      <td>New York</td>\n",
       "      <td>Trader</td>\n",
       "      <td>False</td>\n",
       "    </tr>\n",
       "    <tr>\n",
       "      <th>8657</th>\n",
       "      <td>ID_8657</td>\n",
       "      <td>49.0</td>\n",
       "      <td>Female</td>\n",
       "      <td>Tennessee</td>\n",
       "      <td>Farmer</td>\n",
       "      <td>False</td>\n",
       "    </tr>\n",
       "  </tbody>\n",
       "</table>\n",
       "</div>"
      ],
      "text/plain": [
       "     customer_id   age  gender      location profession  is_rural\n",
       "6223     ID_6223  29.0  Female  Rhode Island     Trader      True\n",
       "9054     ID_9054  33.0  Female         Texas     Trader      True\n",
       "6829     ID_6829  38.0  Female          Iowa     Trader      True\n",
       "1376     ID_1376  38.0  Female      New York     Trader     False\n",
       "8657     ID_8657  49.0  Female     Tennessee     Farmer     False"
      ]
     },
     "execution_count": 6,
     "metadata": {},
     "output_type": "execute_result"
    }
   ],
   "source": [
    "demograh_data.sample(5)"
   ]
  },
  {
   "cell_type": "code",
   "execution_count": 7,
   "id": "5f4d4161-7bdb-45c9-b210-98c2112ee30f",
   "metadata": {},
   "outputs": [
    {
     "name": "stdout",
     "output_type": "stream",
     "text": [
      "<class 'pandas.core.frame.DataFrame'>\n",
      "RangeIndex: 10000 entries, 0 to 9999\n",
      "Data columns (total 6 columns):\n",
      " #   Column       Non-Null Count  Dtype  \n",
      "---  ------       --------------  -----  \n",
      " 0   customer_id  10000 non-null  object \n",
      " 1   age          9260 non-null   float64\n",
      " 2   gender       10000 non-null  object \n",
      " 3   location     10000 non-null  object \n",
      " 4   profession   9500 non-null   object \n",
      " 5   is_rural     10000 non-null  bool   \n",
      "dtypes: bool(1), float64(1), object(4)\n",
      "memory usage: 400.5+ KB\n"
     ]
    }
   ],
   "source": [
    "demograh_data.info()"
   ]
  },
  {
   "cell_type": "code",
   "execution_count": 8,
   "id": "24d1c3d2-8f65-43e4-8d46-5dfc3f4bfcaf",
   "metadata": {},
   "outputs": [
    {
     "data": {
      "text/plain": [
       "customer_id      0\n",
       "age            740\n",
       "gender           0\n",
       "location         0\n",
       "profession     500\n",
       "is_rural         0\n",
       "dtype: int64"
      ]
     },
     "execution_count": 8,
     "metadata": {},
     "output_type": "execute_result"
    }
   ],
   "source": [
    "demograh_data.isna().sum()"
   ]
  },
  {
   "cell_type": "code",
   "execution_count": 9,
   "id": "ee0a060e-f497-48d8-8f9d-a80a87051e48",
   "metadata": {},
   "outputs": [
    {
     "data": {
      "text/plain": [
       "profession\n",
       "Trader               3017\n",
       "Farmer               3011\n",
       "Teacher              1833\n",
       "Engineer             1334\n",
       "Healthcare Worker     305\n",
       "Name: count, dtype: int64"
      ]
     },
     "execution_count": 9,
     "metadata": {},
     "output_type": "execute_result"
    }
   ],
   "source": [
    "# handle profession\n",
    "demograh_data.profession.value_counts()"
   ]
  },
  {
   "cell_type": "code",
   "execution_count": 10,
   "id": "f3cf2d14-3881-4a34-8cbb-7ebd9cc2b897",
   "metadata": {},
   "outputs": [
    {
     "data": {
      "text/html": [
       "<div>\n",
       "<style scoped>\n",
       "    .dataframe tbody tr th:only-of-type {\n",
       "        vertical-align: middle;\n",
       "    }\n",
       "\n",
       "    .dataframe tbody tr th {\n",
       "        vertical-align: top;\n",
       "    }\n",
       "\n",
       "    .dataframe thead th {\n",
       "        text-align: right;\n",
       "    }\n",
       "</style>\n",
       "<table border=\"1\" class=\"dataframe\">\n",
       "  <thead>\n",
       "    <tr style=\"text-align: right;\">\n",
       "      <th></th>\n",
       "      <th>customer_id</th>\n",
       "      <th>age</th>\n",
       "      <th>gender</th>\n",
       "      <th>location</th>\n",
       "      <th>profession</th>\n",
       "      <th>is_rural</th>\n",
       "    </tr>\n",
       "  </thead>\n",
       "  <tbody>\n",
       "    <tr>\n",
       "      <th>10</th>\n",
       "      <td>ID_10</td>\n",
       "      <td>52.0</td>\n",
       "      <td>Male</td>\n",
       "      <td>Utah</td>\n",
       "      <td>NaN</td>\n",
       "      <td>True</td>\n",
       "    </tr>\n",
       "    <tr>\n",
       "      <th>21</th>\n",
       "      <td>ID_21</td>\n",
       "      <td>37.0</td>\n",
       "      <td>Female</td>\n",
       "      <td>North Carolina</td>\n",
       "      <td>NaN</td>\n",
       "      <td>False</td>\n",
       "    </tr>\n",
       "    <tr>\n",
       "      <th>52</th>\n",
       "      <td>ID_52</td>\n",
       "      <td>30.0</td>\n",
       "      <td>Male</td>\n",
       "      <td>Rhode Island</td>\n",
       "      <td>NaN</td>\n",
       "      <td>True</td>\n",
       "    </tr>\n",
       "    <tr>\n",
       "      <th>82</th>\n",
       "      <td>ID_82</td>\n",
       "      <td>60.0</td>\n",
       "      <td>Male</td>\n",
       "      <td>Mississippi</td>\n",
       "      <td>NaN</td>\n",
       "      <td>True</td>\n",
       "    </tr>\n",
       "    <tr>\n",
       "      <th>91</th>\n",
       "      <td>ID_91</td>\n",
       "      <td>20.0</td>\n",
       "      <td>Female</td>\n",
       "      <td>Tennessee</td>\n",
       "      <td>NaN</td>\n",
       "      <td>True</td>\n",
       "    </tr>\n",
       "    <tr>\n",
       "      <th>...</th>\n",
       "      <td>...</td>\n",
       "      <td>...</td>\n",
       "      <td>...</td>\n",
       "      <td>...</td>\n",
       "      <td>...</td>\n",
       "      <td>...</td>\n",
       "    </tr>\n",
       "    <tr>\n",
       "      <th>9915</th>\n",
       "      <td>ID_9915</td>\n",
       "      <td>31.0</td>\n",
       "      <td>Male</td>\n",
       "      <td>New York</td>\n",
       "      <td>NaN</td>\n",
       "      <td>True</td>\n",
       "    </tr>\n",
       "    <tr>\n",
       "      <th>9922</th>\n",
       "      <td>ID_9922</td>\n",
       "      <td>20.0</td>\n",
       "      <td>Female</td>\n",
       "      <td>Arkansas</td>\n",
       "      <td>NaN</td>\n",
       "      <td>False</td>\n",
       "    </tr>\n",
       "    <tr>\n",
       "      <th>9927</th>\n",
       "      <td>ID_9927</td>\n",
       "      <td>NaN</td>\n",
       "      <td>Female</td>\n",
       "      <td>South Carolina</td>\n",
       "      <td>NaN</td>\n",
       "      <td>False</td>\n",
       "    </tr>\n",
       "    <tr>\n",
       "      <th>9939</th>\n",
       "      <td>ID_9939</td>\n",
       "      <td>31.0</td>\n",
       "      <td>Male</td>\n",
       "      <td>New Mexico</td>\n",
       "      <td>NaN</td>\n",
       "      <td>False</td>\n",
       "    </tr>\n",
       "    <tr>\n",
       "      <th>9961</th>\n",
       "      <td>ID_9961</td>\n",
       "      <td>37.0</td>\n",
       "      <td>Female</td>\n",
       "      <td>Oklahoma</td>\n",
       "      <td>NaN</td>\n",
       "      <td>True</td>\n",
       "    </tr>\n",
       "  </tbody>\n",
       "</table>\n",
       "<p>500 rows × 6 columns</p>\n",
       "</div>"
      ],
      "text/plain": [
       "     customer_id   age  gender        location profession  is_rural\n",
       "10         ID_10  52.0    Male            Utah        NaN      True\n",
       "21         ID_21  37.0  Female  North Carolina        NaN     False\n",
       "52         ID_52  30.0    Male    Rhode Island        NaN      True\n",
       "82         ID_82  60.0    Male     Mississippi        NaN      True\n",
       "91         ID_91  20.0  Female       Tennessee        NaN      True\n",
       "...          ...   ...     ...             ...        ...       ...\n",
       "9915     ID_9915  31.0    Male        New York        NaN      True\n",
       "9922     ID_9922  20.0  Female        Arkansas        NaN     False\n",
       "9927     ID_9927   NaN  Female  South Carolina        NaN     False\n",
       "9939     ID_9939  31.0    Male      New Mexico        NaN     False\n",
       "9961     ID_9961  37.0  Female        Oklahoma        NaN      True\n",
       "\n",
       "[500 rows x 6 columns]"
      ]
     },
     "execution_count": 10,
     "metadata": {},
     "output_type": "execute_result"
    }
   ],
   "source": [
    "demograh_data[demograh_data.profession.isna()]"
   ]
  },
  {
   "cell_type": "markdown",
   "id": "f6159d5f-c8bb-4288-a139-5f79cc19df62",
   "metadata": {},
   "source": [
    "With 500 missing rows, we would create a new variable called \"missing\" for users without profession."
   ]
  },
  {
   "cell_type": "code",
   "execution_count": 11,
   "id": "5326bf10-b4ab-485e-84ff-0632a32a31e6",
   "metadata": {},
   "outputs": [
    {
     "name": "stderr",
     "output_type": "stream",
     "text": [
      "/var/folders/yd/36hqj6y53ks959xgzn2k7htw0000gn/T/ipykernel_87790/960610229.py:1: FutureWarning: ChainedAssignmentError: behaviour will change in pandas 3.0!\n",
      "You are setting values through chained assignment. Currently this works in certain cases, but when using Copy-on-Write (which will become the default behaviour in pandas 3.0) this will never work to update the original DataFrame or Series, because the intermediate object on which we are setting values will behave as a copy.\n",
      "A typical example is when you are setting values in a column of a DataFrame, like:\n",
      "\n",
      "df[\"col\"][row_indexer] = value\n",
      "\n",
      "Use `df.loc[row_indexer, \"col\"] = values` instead, to perform the assignment in a single step and ensure this keeps updating the original `df`.\n",
      "\n",
      "See the caveats in the documentation: https://pandas.pydata.org/pandas-docs/stable/user_guide/indexing.html#returning-a-view-versus-a-copy\n",
      "\n",
      "  demograh_data.profession.loc[demograh_data.profession.isna()] = \"missing\"\n",
      "/var/folders/yd/36hqj6y53ks959xgzn2k7htw0000gn/T/ipykernel_87790/960610229.py:1: SettingWithCopyWarning: \n",
      "A value is trying to be set on a copy of a slice from a DataFrame\n",
      "\n",
      "See the caveats in the documentation: https://pandas.pydata.org/pandas-docs/stable/user_guide/indexing.html#returning-a-view-versus-a-copy\n",
      "  demograh_data.profession.loc[demograh_data.profession.isna()] = \"missing\"\n"
     ]
    }
   ],
   "source": [
    "demograh_data.profession.loc[demograh_data.profession.isna()] = \"missing\"\n",
    "demograh_data.profession = demograh_data.profession.apply(lambda x: x.lower())"
   ]
  },
  {
   "cell_type": "code",
   "execution_count": 12,
   "id": "2d391b69-4cc5-410a-9b0f-11dbe2b8c161",
   "metadata": {},
   "outputs": [
    {
     "data": {
      "text/html": [
       "<div>\n",
       "<style scoped>\n",
       "    .dataframe tbody tr th:only-of-type {\n",
       "        vertical-align: middle;\n",
       "    }\n",
       "\n",
       "    .dataframe tbody tr th {\n",
       "        vertical-align: top;\n",
       "    }\n",
       "\n",
       "    .dataframe thead th {\n",
       "        text-align: right;\n",
       "    }\n",
       "</style>\n",
       "<table border=\"1\" class=\"dataframe\">\n",
       "  <thead>\n",
       "    <tr style=\"text-align: right;\">\n",
       "      <th></th>\n",
       "      <th>customer_id</th>\n",
       "      <th>age</th>\n",
       "      <th>gender</th>\n",
       "      <th>location</th>\n",
       "      <th>profession</th>\n",
       "      <th>is_rural</th>\n",
       "    </tr>\n",
       "  </thead>\n",
       "  <tbody>\n",
       "    <tr>\n",
       "      <th>3074</th>\n",
       "      <td>ID_3074</td>\n",
       "      <td>57.0</td>\n",
       "      <td>Male</td>\n",
       "      <td>Florida</td>\n",
       "      <td>teacher</td>\n",
       "      <td>True</td>\n",
       "    </tr>\n",
       "    <tr>\n",
       "      <th>6882</th>\n",
       "      <td>ID_6882</td>\n",
       "      <td>57.0</td>\n",
       "      <td>Female</td>\n",
       "      <td>South Carolina</td>\n",
       "      <td>farmer</td>\n",
       "      <td>True</td>\n",
       "    </tr>\n",
       "    <tr>\n",
       "      <th>6497</th>\n",
       "      <td>ID_6497</td>\n",
       "      <td>51.0</td>\n",
       "      <td>Male</td>\n",
       "      <td>Kansas</td>\n",
       "      <td>farmer</td>\n",
       "      <td>True</td>\n",
       "    </tr>\n",
       "    <tr>\n",
       "      <th>2253</th>\n",
       "      <td>ID_2253</td>\n",
       "      <td>NaN</td>\n",
       "      <td>Male</td>\n",
       "      <td>Texas</td>\n",
       "      <td>engineer</td>\n",
       "      <td>False</td>\n",
       "    </tr>\n",
       "    <tr>\n",
       "      <th>6269</th>\n",
       "      <td>ID_6269</td>\n",
       "      <td>24.0</td>\n",
       "      <td>Male</td>\n",
       "      <td>Rhode Island</td>\n",
       "      <td>missing</td>\n",
       "      <td>True</td>\n",
       "    </tr>\n",
       "  </tbody>\n",
       "</table>\n",
       "</div>"
      ],
      "text/plain": [
       "     customer_id   age  gender        location profession  is_rural\n",
       "3074     ID_3074  57.0    Male         Florida    teacher      True\n",
       "6882     ID_6882  57.0  Female  South Carolina     farmer      True\n",
       "6497     ID_6497  51.0    Male          Kansas     farmer      True\n",
       "2253     ID_2253   NaN    Male           Texas   engineer     False\n",
       "6269     ID_6269  24.0    Male    Rhode Island    missing      True"
      ]
     },
     "execution_count": 12,
     "metadata": {},
     "output_type": "execute_result"
    }
   ],
   "source": [
    "demograh_data.sample(5)"
   ]
  },
  {
   "cell_type": "code",
   "execution_count": 13,
   "id": "5fb6bf48-1f77-44dc-a98a-ce44a9f12e1e",
   "metadata": {},
   "outputs": [
    {
     "data": {
      "text/plain": [
       "gender\n",
       "Female    5013\n",
       "Male      4987\n",
       "Name: count, dtype: int64"
      ]
     },
     "execution_count": 13,
     "metadata": {},
     "output_type": "execute_result"
    }
   ],
   "source": [
    "demograh_data.gender.value_counts()"
   ]
  },
  {
   "cell_type": "code",
   "execution_count": 14,
   "id": "f1d02b6b-ed3a-4c89-bda5-69f4188580e1",
   "metadata": {},
   "outputs": [
    {
     "data": {
      "text/html": [
       "<div>\n",
       "<style scoped>\n",
       "    .dataframe tbody tr th:only-of-type {\n",
       "        vertical-align: middle;\n",
       "    }\n",
       "\n",
       "    .dataframe tbody tr th {\n",
       "        vertical-align: top;\n",
       "    }\n",
       "\n",
       "    .dataframe thead th {\n",
       "        text-align: right;\n",
       "    }\n",
       "</style>\n",
       "<table border=\"1\" class=\"dataframe\">\n",
       "  <thead>\n",
       "    <tr style=\"text-align: right;\">\n",
       "      <th></th>\n",
       "      <th>count</th>\n",
       "    </tr>\n",
       "    <tr>\n",
       "      <th>location</th>\n",
       "      <th></th>\n",
       "    </tr>\n",
       "  </thead>\n",
       "  <tbody>\n",
       "    <tr>\n",
       "      <th>Vermont</th>\n",
       "      <td>226</td>\n",
       "    </tr>\n",
       "    <tr>\n",
       "      <th>Oregon</th>\n",
       "      <td>225</td>\n",
       "    </tr>\n",
       "    <tr>\n",
       "      <th>Utah</th>\n",
       "      <td>223</td>\n",
       "    </tr>\n",
       "    <tr>\n",
       "      <th>Wyoming</th>\n",
       "      <td>219</td>\n",
       "    </tr>\n",
       "    <tr>\n",
       "      <th>Oklahoma</th>\n",
       "      <td>216</td>\n",
       "    </tr>\n",
       "    <tr>\n",
       "      <th>Florida</th>\n",
       "      <td>216</td>\n",
       "    </tr>\n",
       "    <tr>\n",
       "      <th>Tennessee</th>\n",
       "      <td>216</td>\n",
       "    </tr>\n",
       "    <tr>\n",
       "      <th>Ohio</th>\n",
       "      <td>214</td>\n",
       "    </tr>\n",
       "    <tr>\n",
       "      <th>Colorado</th>\n",
       "      <td>214</td>\n",
       "    </tr>\n",
       "    <tr>\n",
       "      <th>Massachusetts</th>\n",
       "      <td>213</td>\n",
       "    </tr>\n",
       "    <tr>\n",
       "      <th>Missouri</th>\n",
       "      <td>213</td>\n",
       "    </tr>\n",
       "    <tr>\n",
       "      <th>Texas</th>\n",
       "      <td>212</td>\n",
       "    </tr>\n",
       "    <tr>\n",
       "      <th>South Dakota</th>\n",
       "      <td>208</td>\n",
       "    </tr>\n",
       "    <tr>\n",
       "      <th>New York</th>\n",
       "      <td>208</td>\n",
       "    </tr>\n",
       "    <tr>\n",
       "      <th>New Hampshire</th>\n",
       "      <td>208</td>\n",
       "    </tr>\n",
       "    <tr>\n",
       "      <th>New Mexico</th>\n",
       "      <td>208</td>\n",
       "    </tr>\n",
       "    <tr>\n",
       "      <th>Maryland</th>\n",
       "      <td>207</td>\n",
       "    </tr>\n",
       "    <tr>\n",
       "      <th>New Jersey</th>\n",
       "      <td>207</td>\n",
       "    </tr>\n",
       "    <tr>\n",
       "      <th>Connecticut</th>\n",
       "      <td>206</td>\n",
       "    </tr>\n",
       "    <tr>\n",
       "      <th>Georgia</th>\n",
       "      <td>204</td>\n",
       "    </tr>\n",
       "    <tr>\n",
       "      <th>South Carolina</th>\n",
       "      <td>202</td>\n",
       "    </tr>\n",
       "    <tr>\n",
       "      <th>Mississippi</th>\n",
       "      <td>201</td>\n",
       "    </tr>\n",
       "    <tr>\n",
       "      <th>Maine</th>\n",
       "      <td>201</td>\n",
       "    </tr>\n",
       "    <tr>\n",
       "      <th>Washington</th>\n",
       "      <td>201</td>\n",
       "    </tr>\n",
       "    <tr>\n",
       "      <th>West Virginia</th>\n",
       "      <td>201</td>\n",
       "    </tr>\n",
       "    <tr>\n",
       "      <th>Nebraska</th>\n",
       "      <td>201</td>\n",
       "    </tr>\n",
       "    <tr>\n",
       "      <th>California</th>\n",
       "      <td>200</td>\n",
       "    </tr>\n",
       "    <tr>\n",
       "      <th>Arizona</th>\n",
       "      <td>200</td>\n",
       "    </tr>\n",
       "    <tr>\n",
       "      <th>Wisconsin</th>\n",
       "      <td>199</td>\n",
       "    </tr>\n",
       "    <tr>\n",
       "      <th>Kansas</th>\n",
       "      <td>198</td>\n",
       "    </tr>\n",
       "    <tr>\n",
       "      <th>Delaware</th>\n",
       "      <td>196</td>\n",
       "    </tr>\n",
       "    <tr>\n",
       "      <th>Idaho</th>\n",
       "      <td>195</td>\n",
       "    </tr>\n",
       "    <tr>\n",
       "      <th>North Dakota</th>\n",
       "      <td>194</td>\n",
       "    </tr>\n",
       "    <tr>\n",
       "      <th>Rhode Island</th>\n",
       "      <td>194</td>\n",
       "    </tr>\n",
       "    <tr>\n",
       "      <th>Arkansas</th>\n",
       "      <td>194</td>\n",
       "    </tr>\n",
       "    <tr>\n",
       "      <th>Iowa</th>\n",
       "      <td>193</td>\n",
       "    </tr>\n",
       "    <tr>\n",
       "      <th>Louisiana</th>\n",
       "      <td>192</td>\n",
       "    </tr>\n",
       "    <tr>\n",
       "      <th>Michigan</th>\n",
       "      <td>190</td>\n",
       "    </tr>\n",
       "    <tr>\n",
       "      <th>Minnesota</th>\n",
       "      <td>189</td>\n",
       "    </tr>\n",
       "    <tr>\n",
       "      <th>Hawaii</th>\n",
       "      <td>189</td>\n",
       "    </tr>\n",
       "    <tr>\n",
       "      <th>Pennsylvania</th>\n",
       "      <td>189</td>\n",
       "    </tr>\n",
       "    <tr>\n",
       "      <th>Montana</th>\n",
       "      <td>188</td>\n",
       "    </tr>\n",
       "    <tr>\n",
       "      <th>Virginia</th>\n",
       "      <td>187</td>\n",
       "    </tr>\n",
       "    <tr>\n",
       "      <th>North Carolina</th>\n",
       "      <td>183</td>\n",
       "    </tr>\n",
       "    <tr>\n",
       "      <th>Illinois</th>\n",
       "      <td>183</td>\n",
       "    </tr>\n",
       "    <tr>\n",
       "      <th>Kentucky</th>\n",
       "      <td>181</td>\n",
       "    </tr>\n",
       "    <tr>\n",
       "      <th>Nevada</th>\n",
       "      <td>178</td>\n",
       "    </tr>\n",
       "    <tr>\n",
       "      <th>Alabama</th>\n",
       "      <td>176</td>\n",
       "    </tr>\n",
       "    <tr>\n",
       "      <th>Indiana</th>\n",
       "      <td>174</td>\n",
       "    </tr>\n",
       "    <tr>\n",
       "      <th>Alaska</th>\n",
       "      <td>168</td>\n",
       "    </tr>\n",
       "  </tbody>\n",
       "</table>\n",
       "</div>"
      ],
      "text/plain": [
       "                count\n",
       "location             \n",
       "Vermont           226\n",
       "Oregon            225\n",
       "Utah              223\n",
       "Wyoming           219\n",
       "Oklahoma          216\n",
       "Florida           216\n",
       "Tennessee         216\n",
       "Ohio              214\n",
       "Colorado          214\n",
       "Massachusetts     213\n",
       "Missouri          213\n",
       "Texas             212\n",
       "South Dakota      208\n",
       "New York          208\n",
       "New Hampshire     208\n",
       "New Mexico        208\n",
       "Maryland          207\n",
       "New Jersey        207\n",
       "Connecticut       206\n",
       "Georgia           204\n",
       "South Carolina    202\n",
       "Mississippi       201\n",
       "Maine             201\n",
       "Washington        201\n",
       "West Virginia     201\n",
       "Nebraska          201\n",
       "California        200\n",
       "Arizona           200\n",
       "Wisconsin         199\n",
       "Kansas            198\n",
       "Delaware          196\n",
       "Idaho             195\n",
       "North Dakota      194\n",
       "Rhode Island      194\n",
       "Arkansas          194\n",
       "Iowa              193\n",
       "Louisiana         192\n",
       "Michigan          190\n",
       "Minnesota         189\n",
       "Hawaii            189\n",
       "Pennsylvania      189\n",
       "Montana           188\n",
       "Virginia          187\n",
       "North Carolina    183\n",
       "Illinois          183\n",
       "Kentucky          181\n",
       "Nevada            178\n",
       "Alabama           176\n",
       "Indiana           174\n",
       "Alaska            168"
      ]
     },
     "execution_count": 14,
     "metadata": {},
     "output_type": "execute_result"
    }
   ],
   "source": [
    "loca_val_counts = pd.DataFrame(demograh_data.location.value_counts())\n",
    "loca_val_counts"
   ]
  },
  {
   "cell_type": "code",
   "execution_count": 15,
   "id": "db63fbdd-a815-4207-a927-62c47b686afd",
   "metadata": {},
   "outputs": [],
   "source": [
    "demograh_data.location = demograh_data.location.apply(lambda x: x.lower())"
   ]
  },
  {
   "cell_type": "code",
   "execution_count": 16,
   "id": "974b57d0-0403-4fcd-bd13-569198453589",
   "metadata": {},
   "outputs": [
    {
     "data": {
      "text/plain": [
       "location\n",
       "vermont           226\n",
       "oregon            225\n",
       "utah              223\n",
       "wyoming           219\n",
       "oklahoma          216\n",
       "florida           216\n",
       "tennessee         216\n",
       "ohio              214\n",
       "colorado          214\n",
       "massachusetts     213\n",
       "missouri          213\n",
       "texas             212\n",
       "south dakota      208\n",
       "new york          208\n",
       "new hampshire     208\n",
       "new mexico        208\n",
       "maryland          207\n",
       "new jersey        207\n",
       "connecticut       206\n",
       "georgia           204\n",
       "south carolina    202\n",
       "mississippi       201\n",
       "maine             201\n",
       "washington        201\n",
       "west virginia     201\n",
       "nebraska          201\n",
       "california        200\n",
       "arizona           200\n",
       "wisconsin         199\n",
       "kansas            198\n",
       "delaware          196\n",
       "idaho             195\n",
       "north dakota      194\n",
       "rhode island      194\n",
       "arkansas          194\n",
       "iowa              193\n",
       "louisiana         192\n",
       "michigan          190\n",
       "minnesota         189\n",
       "hawaii            189\n",
       "pennsylvania      189\n",
       "montana           188\n",
       "virginia          187\n",
       "north carolina    183\n",
       "illinois          183\n",
       "kentucky          181\n",
       "nevada            178\n",
       "alabama           176\n",
       "indiana           174\n",
       "alaska            168\n",
       "Name: count, dtype: int64"
      ]
     },
     "execution_count": 16,
     "metadata": {},
     "output_type": "execute_result"
    }
   ],
   "source": [
    "demograh_data.location.value_counts()"
   ]
  },
  {
   "cell_type": "code",
   "execution_count": 17,
   "id": "43324bf0-09ad-4681-9289-7aa097baf87a",
   "metadata": {},
   "outputs": [
    {
     "data": {
      "text/plain": [
       "is_rural\n",
       "False    5019\n",
       "True     4981\n",
       "Name: count, dtype: int64"
      ]
     },
     "execution_count": 17,
     "metadata": {},
     "output_type": "execute_result"
    }
   ],
   "source": [
    "demograh_data.is_rural.value_counts()"
   ]
  },
  {
   "cell_type": "code",
   "execution_count": 18,
   "id": "8bf07b14-f304-4908-a8d9-d4b91af0b34b",
   "metadata": {},
   "outputs": [],
   "source": [
    "demograh_data.gender = demograh_data.gender.apply(lambda x: x.lower())\n",
    "demograh_data.is_rural = demograh_data.is_rural.astype(int)"
   ]
  },
  {
   "cell_type": "code",
   "execution_count": 19,
   "id": "10408c35-fb45-42b1-916f-212940fade1f",
   "metadata": {},
   "outputs": [
    {
     "data": {
      "text/html": [
       "<div>\n",
       "<style scoped>\n",
       "    .dataframe tbody tr th:only-of-type {\n",
       "        vertical-align: middle;\n",
       "    }\n",
       "\n",
       "    .dataframe tbody tr th {\n",
       "        vertical-align: top;\n",
       "    }\n",
       "\n",
       "    .dataframe thead th {\n",
       "        text-align: right;\n",
       "    }\n",
       "</style>\n",
       "<table border=\"1\" class=\"dataframe\">\n",
       "  <thead>\n",
       "    <tr style=\"text-align: right;\">\n",
       "      <th></th>\n",
       "      <th>customer_id</th>\n",
       "      <th>age</th>\n",
       "      <th>gender</th>\n",
       "      <th>location</th>\n",
       "      <th>profession</th>\n",
       "      <th>is_rural</th>\n",
       "    </tr>\n",
       "  </thead>\n",
       "  <tbody>\n",
       "    <tr>\n",
       "      <th>7908</th>\n",
       "      <td>ID_7908</td>\n",
       "      <td>56.0</td>\n",
       "      <td>male</td>\n",
       "      <td>south carolina</td>\n",
       "      <td>farmer</td>\n",
       "      <td>0</td>\n",
       "    </tr>\n",
       "    <tr>\n",
       "      <th>2520</th>\n",
       "      <td>ID_2520</td>\n",
       "      <td>48.0</td>\n",
       "      <td>female</td>\n",
       "      <td>texas</td>\n",
       "      <td>teacher</td>\n",
       "      <td>1</td>\n",
       "    </tr>\n",
       "    <tr>\n",
       "      <th>1974</th>\n",
       "      <td>ID_1974</td>\n",
       "      <td>26.0</td>\n",
       "      <td>female</td>\n",
       "      <td>west virginia</td>\n",
       "      <td>trader</td>\n",
       "      <td>1</td>\n",
       "    </tr>\n",
       "    <tr>\n",
       "      <th>6937</th>\n",
       "      <td>ID_6937</td>\n",
       "      <td>40.0</td>\n",
       "      <td>female</td>\n",
       "      <td>colorado</td>\n",
       "      <td>teacher</td>\n",
       "      <td>0</td>\n",
       "    </tr>\n",
       "    <tr>\n",
       "      <th>1561</th>\n",
       "      <td>ID_1561</td>\n",
       "      <td>51.0</td>\n",
       "      <td>female</td>\n",
       "      <td>utah</td>\n",
       "      <td>farmer</td>\n",
       "      <td>1</td>\n",
       "    </tr>\n",
       "    <tr>\n",
       "      <th>4931</th>\n",
       "      <td>ID_4931</td>\n",
       "      <td>57.0</td>\n",
       "      <td>male</td>\n",
       "      <td>maryland</td>\n",
       "      <td>farmer</td>\n",
       "      <td>0</td>\n",
       "    </tr>\n",
       "    <tr>\n",
       "      <th>7294</th>\n",
       "      <td>ID_7294</td>\n",
       "      <td>33.0</td>\n",
       "      <td>female</td>\n",
       "      <td>colorado</td>\n",
       "      <td>farmer</td>\n",
       "      <td>0</td>\n",
       "    </tr>\n",
       "    <tr>\n",
       "      <th>8054</th>\n",
       "      <td>ID_8054</td>\n",
       "      <td>32.0</td>\n",
       "      <td>male</td>\n",
       "      <td>west virginia</td>\n",
       "      <td>missing</td>\n",
       "      <td>0</td>\n",
       "    </tr>\n",
       "    <tr>\n",
       "      <th>8097</th>\n",
       "      <td>ID_8097</td>\n",
       "      <td>59.0</td>\n",
       "      <td>female</td>\n",
       "      <td>south carolina</td>\n",
       "      <td>farmer</td>\n",
       "      <td>1</td>\n",
       "    </tr>\n",
       "    <tr>\n",
       "      <th>3993</th>\n",
       "      <td>ID_3993</td>\n",
       "      <td>48.0</td>\n",
       "      <td>male</td>\n",
       "      <td>utah</td>\n",
       "      <td>farmer</td>\n",
       "      <td>0</td>\n",
       "    </tr>\n",
       "  </tbody>\n",
       "</table>\n",
       "</div>"
      ],
      "text/plain": [
       "     customer_id   age  gender        location profession  is_rural\n",
       "7908     ID_7908  56.0    male  south carolina     farmer         0\n",
       "2520     ID_2520  48.0  female           texas    teacher         1\n",
       "1974     ID_1974  26.0  female   west virginia     trader         1\n",
       "6937     ID_6937  40.0  female        colorado    teacher         0\n",
       "1561     ID_1561  51.0  female            utah     farmer         1\n",
       "4931     ID_4931  57.0    male        maryland     farmer         0\n",
       "7294     ID_7294  33.0  female        colorado     farmer         0\n",
       "8054     ID_8054  32.0    male   west virginia    missing         0\n",
       "8097     ID_8097  59.0  female  south carolina     farmer         1\n",
       "3993     ID_3993  48.0    male            utah     farmer         0"
      ]
     },
     "execution_count": 19,
     "metadata": {},
     "output_type": "execute_result"
    }
   ],
   "source": [
    "demograh_data.sample(10)"
   ]
  },
  {
   "cell_type": "code",
   "execution_count": 20,
   "id": "b428ea04-6c41-489d-bb0f-49c01eccb99c",
   "metadata": {},
   "outputs": [
    {
     "data": {
      "text/html": [
       "<div>\n",
       "<style scoped>\n",
       "    .dataframe tbody tr th:only-of-type {\n",
       "        vertical-align: middle;\n",
       "    }\n",
       "\n",
       "    .dataframe tbody tr th {\n",
       "        vertical-align: top;\n",
       "    }\n",
       "\n",
       "    .dataframe thead th {\n",
       "        text-align: right;\n",
       "    }\n",
       "</style>\n",
       "<table border=\"1\" class=\"dataframe\">\n",
       "  <thead>\n",
       "    <tr style=\"text-align: right;\">\n",
       "      <th></th>\n",
       "      <th>age</th>\n",
       "      <th>is_rural</th>\n",
       "    </tr>\n",
       "  </thead>\n",
       "  <tbody>\n",
       "    <tr>\n",
       "      <th>count</th>\n",
       "      <td>9260.00000</td>\n",
       "      <td>10000.000000</td>\n",
       "    </tr>\n",
       "    <tr>\n",
       "      <th>mean</th>\n",
       "      <td>38.90054</td>\n",
       "      <td>0.498100</td>\n",
       "    </tr>\n",
       "    <tr>\n",
       "      <th>std</th>\n",
       "      <td>12.54418</td>\n",
       "      <td>0.500021</td>\n",
       "    </tr>\n",
       "    <tr>\n",
       "      <th>min</th>\n",
       "      <td>18.00000</td>\n",
       "      <td>0.000000</td>\n",
       "    </tr>\n",
       "    <tr>\n",
       "      <th>25%</th>\n",
       "      <td>28.00000</td>\n",
       "      <td>0.000000</td>\n",
       "    </tr>\n",
       "    <tr>\n",
       "      <th>50%</th>\n",
       "      <td>39.00000</td>\n",
       "      <td>0.000000</td>\n",
       "    </tr>\n",
       "    <tr>\n",
       "      <th>75%</th>\n",
       "      <td>50.00000</td>\n",
       "      <td>1.000000</td>\n",
       "    </tr>\n",
       "    <tr>\n",
       "      <th>max</th>\n",
       "      <td>60.00000</td>\n",
       "      <td>1.000000</td>\n",
       "    </tr>\n",
       "  </tbody>\n",
       "</table>\n",
       "</div>"
      ],
      "text/plain": [
       "              age      is_rural\n",
       "count  9260.00000  10000.000000\n",
       "mean     38.90054      0.498100\n",
       "std      12.54418      0.500021\n",
       "min      18.00000      0.000000\n",
       "25%      28.00000      0.000000\n",
       "50%      39.00000      0.000000\n",
       "75%      50.00000      1.000000\n",
       "max      60.00000      1.000000"
      ]
     },
     "execution_count": 20,
     "metadata": {},
     "output_type": "execute_result"
    }
   ],
   "source": [
    "demograh_data.describe()"
   ]
  },
  {
   "cell_type": "code",
   "execution_count": 21,
   "id": "2dd2a3a6-8d74-4a18-9588-24b8f4a68dec",
   "metadata": {},
   "outputs": [
    {
     "data": {
      "text/plain": [
       "<seaborn.axisgrid.FacetGrid at 0x14f1911d0>"
      ]
     },
     "execution_count": 21,
     "metadata": {},
     "output_type": "execute_result"
    },
    {
     "data": {
      "image/png": "[encoded data removed]",
      "text/plain": [
       "<Figure size 500x500 with 1 Axes>"
      ]
     },
     "metadata": {},
     "output_type": "display_data"
    }
   ],
   "source": [
    "sns.displot(demograh_data.age)"
   ]
  },
  {
   "cell_type": "markdown",
   "id": "da4c4560-9bfd-4b18-8e76-55ff8abfe3ed",
   "metadata": {},
   "source": [
    "Distribution plot shows that all ages have similar count and we do not have outliers in the data. Replace missing values with the mean age."
   ]
  },
  {
   "cell_type": "code",
   "execution_count": 22,
   "id": "f505bf67-ec4a-4264-8b04-70251d46523d",
   "metadata": {},
   "outputs": [
    {
     "name": "stderr",
     "output_type": "stream",
     "text": [
      "/var/folders/yd/36hqj6y53ks959xgzn2k7htw0000gn/T/ipykernel_87790/3340031600.py:1: FutureWarning: A value is trying to be set on a copy of a DataFrame or Series through chained assignment using an inplace method.\n",
      "The behavior will change in pandas 3.0. This inplace method will never work because the intermediate object on which we are setting values always behaves as a copy.\n",
      "\n",
      "For example, when doing 'df[col].method(value, inplace=True)', try using 'df.method({col: value}, inplace=True)' or df[col] = df[col].method(value) instead, to perform the operation inplace on the original object.\n",
      "\n",
      "\n",
      "  demograh_data.age.fillna(int(demograh_data.age.mean()), inplace=True)\n"
     ]
    }
   ],
   "source": [
    "demograh_data.age.fillna(int(demograh_data.age.mean()), inplace=True)"
   ]
  },
  {
   "cell_type": "code",
   "execution_count": 23,
   "id": "1359ae48-816b-4c90-b317-cc34eda2b215",
   "metadata": {},
   "outputs": [
    {
     "data": {
      "text/plain": [
       "customer_id    0\n",
       "age            0\n",
       "gender         0\n",
       "location       0\n",
       "profession     0\n",
       "is_rural       0\n",
       "dtype: int64"
      ]
     },
     "execution_count": 23,
     "metadata": {},
     "output_type": "execute_result"
    }
   ],
   "source": [
    "demograh_data.isna().sum()"
   ]
  },
  {
   "cell_type": "code",
   "execution_count": 24,
   "id": "18a12f46-a8fc-4097-8de8-379d78d18c62",
   "metadata": {},
   "outputs": [],
   "source": [
    "demograh_data.to_csv(\"data/demographics_cleaned.csv\")"
   ]
  },
  {
   "cell_type": "markdown",
   "id": "c45a383b-94ed-4fa1-a1f5-6e53796f90ad",
   "metadata": {},
   "source": [
    "## Transactions data"
   ]
  },
  {
   "cell_type": "code",
   "execution_count": 25,
   "id": "4e48987f-5939-4f2c-a4f2-efa0f71ea76d",
   "metadata": {},
   "outputs": [
    {
     "data": {
      "text/html": [
       "<div>\n",
       "<style scoped>\n",
       "    .dataframe tbody tr th:only-of-type {\n",
       "        vertical-align: middle;\n",
       "    }\n",
       "\n",
       "    .dataframe tbody tr th {\n",
       "        vertical-align: top;\n",
       "    }\n",
       "\n",
       "    .dataframe thead th {\n",
       "        text-align: right;\n",
       "    }\n",
       "</style>\n",
       "<table border=\"1\" class=\"dataframe\">\n",
       "  <thead>\n",
       "    <tr style=\"text-align: right;\">\n",
       "      <th></th>\n",
       "      <th>transaction_id</th>\n",
       "      <th>customer_id</th>\n",
       "      <th>timestamp</th>\n",
       "      <th>amount</th>\n",
       "      <th>transaction_type</th>\n",
       "    </tr>\n",
       "  </thead>\n",
       "  <tbody>\n",
       "    <tr>\n",
       "      <th>0</th>\n",
       "      <td>TX_0</td>\n",
       "      <td>ID_8915</td>\n",
       "      <td>2023-10-13 18:54:46</td>\n",
       "      <td>174177.09</td>\n",
       "      <td>Deposit</td>\n",
       "    </tr>\n",
       "    <tr>\n",
       "      <th>1</th>\n",
       "      <td>TX_1</td>\n",
       "      <td>ID_6424</td>\n",
       "      <td>2023-07-14 19:26:13</td>\n",
       "      <td>102255.66</td>\n",
       "      <td>Purchase</td>\n",
       "    </tr>\n",
       "    <tr>\n",
       "      <th>2</th>\n",
       "      <td>TX_2</td>\n",
       "      <td>ID_876</td>\n",
       "      <td>2023-04-10 18:05:07</td>\n",
       "      <td>238792.30</td>\n",
       "      <td>Purchase</td>\n",
       "    </tr>\n",
       "    <tr>\n",
       "      <th>3</th>\n",
       "      <td>TX_3</td>\n",
       "      <td>ID_1398</td>\n",
       "      <td>2023-04-07 18:12:50</td>\n",
       "      <td>233231.78</td>\n",
       "      <td>Deposit</td>\n",
       "    </tr>\n",
       "    <tr>\n",
       "      <th>4</th>\n",
       "      <td>TX_4</td>\n",
       "      <td>ID_2116</td>\n",
       "      <td>2023-01-26 19:23:26</td>\n",
       "      <td>202310.96</td>\n",
       "      <td>Withdrawal</td>\n",
       "    </tr>\n",
       "  </tbody>\n",
       "</table>\n",
       "</div>"
      ],
      "text/plain": [
       "  transaction_id customer_id            timestamp     amount transaction_type\n",
       "0           TX_0     ID_8915  2023-10-13 18:54:46  174177.09          Deposit\n",
       "1           TX_1     ID_6424  2023-07-14 19:26:13  102255.66         Purchase\n",
       "2           TX_2      ID_876  2023-04-10 18:05:07  238792.30         Purchase\n",
       "3           TX_3     ID_1398  2023-04-07 18:12:50  233231.78          Deposit\n",
       "4           TX_4     ID_2116  2023-01-26 19:23:26  202310.96       Withdrawal"
      ]
     },
     "execution_count": 25,
     "metadata": {},
     "output_type": "execute_result"
    }
   ],
   "source": [
    "transactions.head()"
   ]
  },
  {
   "cell_type": "code",
   "execution_count": 26,
   "id": "72070acf-a7ea-412f-b67f-d813a09c2347",
   "metadata": {},
   "outputs": [
    {
     "name": "stdout",
     "output_type": "stream",
     "text": [
      "<class 'pandas.core.frame.DataFrame'>\n",
      "RangeIndex: 68000 entries, 0 to 67999\n",
      "Data columns (total 5 columns):\n",
      " #   Column            Non-Null Count  Dtype  \n",
      "---  ------            --------------  -----  \n",
      " 0   transaction_id    68000 non-null  object \n",
      " 1   customer_id       68000 non-null  object \n",
      " 2   timestamp         68000 non-null  object \n",
      " 3   amount            64444 non-null  float64\n",
      " 4   transaction_type  68000 non-null  object \n",
      "dtypes: float64(1), object(4)\n",
      "memory usage: 2.6+ MB\n"
     ]
    }
   ],
   "source": [
    "transactions.info()"
   ]
  },
  {
   "cell_type": "code",
   "execution_count": 27,
   "id": "f30af47e-1859-450b-ad28-e15ed57f5f4a",
   "metadata": {},
   "outputs": [
    {
     "data": {
      "text/plain": [
       "transaction_id         0\n",
       "customer_id            0\n",
       "timestamp              0\n",
       "amount              3556\n",
       "transaction_type       0\n",
       "dtype: int64"
      ]
     },
     "execution_count": 27,
     "metadata": {},
     "output_type": "execute_result"
    }
   ],
   "source": [
    "transactions.isna().sum()"
   ]
  },
  {
   "cell_type": "code",
   "execution_count": 28,
   "id": "7193f720-0cad-48e8-bb66-e59e98b19009",
   "metadata": {},
   "outputs": [
    {
     "data": {
      "text/plain": [
       "(Timestamp('2023-01-01 00:00:26'), Timestamp('2023-12-31 23:51:52'))"
      ]
     },
     "execution_count": 28,
     "metadata": {},
     "output_type": "execute_result"
    }
   ],
   "source": [
    "# handle timestamp\n",
    "transactions.timestamp = pd.to_datetime(transactions.timestamp)\n",
    "\n",
    "transactions.timestamp.min(), transactions.timestamp.max()"
   ]
  },
  {
   "cell_type": "code",
   "execution_count": 29,
   "id": "f686aae1-1e3c-40db-ae8f-2daceac0a140",
   "metadata": {},
   "outputs": [
    {
     "data": {
      "text/plain": [
       "<seaborn.axisgrid.FacetGrid at 0x14f30d110>"
      ]
     },
     "execution_count": 29,
     "metadata": {},
     "output_type": "execute_result"
    },
    {
     "data": {
      "image/png": "[encoded data removed]",
      "text/plain": [
       "<Figure size 500x500 with 1 Axes>"
      ]
     },
     "metadata": {},
     "output_type": "display_data"
    }
   ],
   "source": [
    "# handle amount\n",
    "sns.displot(transactions.amount)"
   ]
  },
  {
   "cell_type": "code",
   "execution_count": 30,
   "id": "1f15b980-366a-40cc-ab23-b15304c08431",
   "metadata": {},
   "outputs": [
    {
     "name": "stderr",
     "output_type": "stream",
     "text": [
      "/var/folders/yd/36hqj6y53ks959xgzn2k7htw0000gn/T/ipykernel_87790/3073539218.py:7: SettingWithCopyWarning: \n",
      "A value is trying to be set on a copy of a slice from a DataFrame.\n",
      "Try using .loc[row_indexer,col_indexer] = value instead\n",
      "\n",
      "See the caveats in the documentation: https://pandas.pydata.org/pandas-docs/stable/user_guide/indexing.html#returning-a-view-versus-a-copy\n",
      "  imp_data.transaction_type = LabelEncoder().fit_transform(imp_data.transaction_type)\n"
     ]
    }
   ],
   "source": [
    "# handle missing value\n",
    "from sklearn.experimental import enable_iterative_imputer\n",
    "from sklearn.impute import KNNImputer, IterativeImputer\n",
    "from sklearn.preprocessing import LabelEncoder\n",
    "\n",
    "imp_data = transactions[['amount', 'transaction_type']]\n",
    "imp_data.transaction_type = LabelEncoder().fit_transform(imp_data.transaction_type)\n",
    "\n",
    "amount_imputer = KNNImputer(n_neighbors=2, weights=\"uniform\")\n",
    "amount_imputer_ii = IterativeImputer(max_iter=10, random_state=0)\n",
    "\n",
    "amount_imputer.fit(imp_data)\n",
    "transactions[\"imputed_amount\"] = amount_imputer.transform(imp_data)[:, 0]"
   ]
  },
  {
   "cell_type": "code",
   "execution_count": 31,
   "id": "6ac14b20-3f58-40a2-a71f-44c625d29f2b",
   "metadata": {},
   "outputs": [
    {
     "data": {
      "text/html": [
       "<div>\n",
       "<style scoped>\n",
       "    .dataframe tbody tr th:only-of-type {\n",
       "        vertical-align: middle;\n",
       "    }\n",
       "\n",
       "    .dataframe tbody tr th {\n",
       "        vertical-align: top;\n",
       "    }\n",
       "\n",
       "    .dataframe thead th {\n",
       "        text-align: right;\n",
       "    }\n",
       "</style>\n",
       "<table border=\"1\" class=\"dataframe\">\n",
       "  <thead>\n",
       "    <tr style=\"text-align: right;\">\n",
       "      <th></th>\n",
       "      <th>transaction_id</th>\n",
       "      <th>customer_id</th>\n",
       "      <th>timestamp</th>\n",
       "      <th>amount</th>\n",
       "      <th>transaction_type</th>\n",
       "      <th>imputed_amount</th>\n",
       "    </tr>\n",
       "  </thead>\n",
       "  <tbody>\n",
       "    <tr>\n",
       "      <th>0</th>\n",
       "      <td>TX_0</td>\n",
       "      <td>ID_8915</td>\n",
       "      <td>2023-10-13 18:54:46</td>\n",
       "      <td>174177.09</td>\n",
       "      <td>Deposit</td>\n",
       "      <td>174177.09</td>\n",
       "    </tr>\n",
       "    <tr>\n",
       "      <th>1</th>\n",
       "      <td>TX_1</td>\n",
       "      <td>ID_6424</td>\n",
       "      <td>2023-07-14 19:26:13</td>\n",
       "      <td>102255.66</td>\n",
       "      <td>Purchase</td>\n",
       "      <td>102255.66</td>\n",
       "    </tr>\n",
       "    <tr>\n",
       "      <th>2</th>\n",
       "      <td>TX_2</td>\n",
       "      <td>ID_876</td>\n",
       "      <td>2023-04-10 18:05:07</td>\n",
       "      <td>238792.30</td>\n",
       "      <td>Purchase</td>\n",
       "      <td>238792.30</td>\n",
       "    </tr>\n",
       "    <tr>\n",
       "      <th>3</th>\n",
       "      <td>TX_3</td>\n",
       "      <td>ID_1398</td>\n",
       "      <td>2023-04-07 18:12:50</td>\n",
       "      <td>233231.78</td>\n",
       "      <td>Deposit</td>\n",
       "      <td>233231.78</td>\n",
       "    </tr>\n",
       "    <tr>\n",
       "      <th>4</th>\n",
       "      <td>TX_4</td>\n",
       "      <td>ID_2116</td>\n",
       "      <td>2023-01-26 19:23:26</td>\n",
       "      <td>202310.96</td>\n",
       "      <td>Withdrawal</td>\n",
       "      <td>202310.96</td>\n",
       "    </tr>\n",
       "  </tbody>\n",
       "</table>\n",
       "</div>"
      ],
      "text/plain": [
       "  transaction_id customer_id           timestamp     amount transaction_type  \\\n",
       "0           TX_0     ID_8915 2023-10-13 18:54:46  174177.09          Deposit   \n",
       "1           TX_1     ID_6424 2023-07-14 19:26:13  102255.66         Purchase   \n",
       "2           TX_2      ID_876 2023-04-10 18:05:07  238792.30         Purchase   \n",
       "3           TX_3     ID_1398 2023-04-07 18:12:50  233231.78          Deposit   \n",
       "4           TX_4     ID_2116 2023-01-26 19:23:26  202310.96       Withdrawal   \n",
       "\n",
       "   imputed_amount  \n",
       "0       174177.09  \n",
       "1       102255.66  \n",
       "2       238792.30  \n",
       "3       233231.78  \n",
       "4       202310.96  "
      ]
     },
     "execution_count": 31,
     "metadata": {},
     "output_type": "execute_result"
    }
   ],
   "source": [
    "transactions.head()"
   ]
  },
  {
   "cell_type": "code",
   "execution_count": 32,
   "id": "8aa92cdf-9aea-4673-89de-ad33f1dad800",
   "metadata": {},
   "outputs": [
    {
     "data": {
      "text/plain": [
       "<seaborn.axisgrid.FacetGrid at 0x1574b9050>"
      ]
     },
     "execution_count": 32,
     "metadata": {},
     "output_type": "execute_result"
    },
    {
     "data": {
      "image/png": "[encoded data removed]",
      "text/plain": [
       "<Figure size 500x500 with 1 Axes>"
      ]
     },
     "metadata": {},
     "output_type": "display_data"
    }
   ],
   "source": [
    "sns.displot(transactions.imputed_amount)"
   ]
  },
  {
   "cell_type": "code",
   "execution_count": 33,
   "id": "b9593ede-e3ba-46ad-bf2e-99caee860874",
   "metadata": {},
   "outputs": [],
   "source": [
    "transactions[\"imputed_data_ii\"] = amount_imputer_ii.fit_transform(imp_data)[:, 0]"
   ]
  },
  {
   "cell_type": "code",
   "execution_count": 34,
   "id": "aa70b039-c3ec-4470-91f8-3aa089fbf3cd",
   "metadata": {},
   "outputs": [
    {
     "data": {
      "text/html": [
       "<div>\n",
       "<style scoped>\n",
       "    .dataframe tbody tr th:only-of-type {\n",
       "        vertical-align: middle;\n",
       "    }\n",
       "\n",
       "    .dataframe tbody tr th {\n",
       "        vertical-align: top;\n",
       "    }\n",
       "\n",
       "    .dataframe thead th {\n",
       "        text-align: right;\n",
       "    }\n",
       "</style>\n",
       "<table border=\"1\" class=\"dataframe\">\n",
       "  <thead>\n",
       "    <tr style=\"text-align: right;\">\n",
       "      <th></th>\n",
       "      <th>transaction_id</th>\n",
       "      <th>customer_id</th>\n",
       "      <th>timestamp</th>\n",
       "      <th>amount</th>\n",
       "      <th>transaction_type</th>\n",
       "      <th>imputed_amount</th>\n",
       "      <th>imputed_data_ii</th>\n",
       "    </tr>\n",
       "  </thead>\n",
       "  <tbody>\n",
       "    <tr>\n",
       "      <th>0</th>\n",
       "      <td>TX_0</td>\n",
       "      <td>ID_8915</td>\n",
       "      <td>2023-10-13 18:54:46</td>\n",
       "      <td>174177.09</td>\n",
       "      <td>Deposit</td>\n",
       "      <td>174177.09</td>\n",
       "      <td>174177.09</td>\n",
       "    </tr>\n",
       "    <tr>\n",
       "      <th>1</th>\n",
       "      <td>TX_1</td>\n",
       "      <td>ID_6424</td>\n",
       "      <td>2023-07-14 19:26:13</td>\n",
       "      <td>102255.66</td>\n",
       "      <td>Purchase</td>\n",
       "      <td>102255.66</td>\n",
       "      <td>102255.66</td>\n",
       "    </tr>\n",
       "    <tr>\n",
       "      <th>2</th>\n",
       "      <td>TX_2</td>\n",
       "      <td>ID_876</td>\n",
       "      <td>2023-04-10 18:05:07</td>\n",
       "      <td>238792.30</td>\n",
       "      <td>Purchase</td>\n",
       "      <td>238792.30</td>\n",
       "      <td>238792.30</td>\n",
       "    </tr>\n",
       "    <tr>\n",
       "      <th>3</th>\n",
       "      <td>TX_3</td>\n",
       "      <td>ID_1398</td>\n",
       "      <td>2023-04-07 18:12:50</td>\n",
       "      <td>233231.78</td>\n",
       "      <td>Deposit</td>\n",
       "      <td>233231.78</td>\n",
       "      <td>233231.78</td>\n",
       "    </tr>\n",
       "    <tr>\n",
       "      <th>4</th>\n",
       "      <td>TX_4</td>\n",
       "      <td>ID_2116</td>\n",
       "      <td>2023-01-26 19:23:26</td>\n",
       "      <td>202310.96</td>\n",
       "      <td>Withdrawal</td>\n",
       "      <td>202310.96</td>\n",
       "      <td>202310.96</td>\n",
       "    </tr>\n",
       "  </tbody>\n",
       "</table>\n",
       "</div>"
      ],
      "text/plain": [
       "  transaction_id customer_id           timestamp     amount transaction_type  \\\n",
       "0           TX_0     ID_8915 2023-10-13 18:54:46  174177.09          Deposit   \n",
       "1           TX_1     ID_6424 2023-07-14 19:26:13  102255.66         Purchase   \n",
       "2           TX_2      ID_876 2023-04-10 18:05:07  238792.30         Purchase   \n",
       "3           TX_3     ID_1398 2023-04-07 18:12:50  233231.78          Deposit   \n",
       "4           TX_4     ID_2116 2023-01-26 19:23:26  202310.96       Withdrawal   \n",
       "\n",
       "   imputed_amount  imputed_data_ii  \n",
       "0       174177.09        174177.09  \n",
       "1       102255.66        102255.66  \n",
       "2       238792.30        238792.30  \n",
       "3       233231.78        233231.78  \n",
       "4       202310.96        202310.96  "
      ]
     },
     "execution_count": 34,
     "metadata": {},
     "output_type": "execute_result"
    }
   ],
   "source": [
    "transactions.head()"
   ]
  },
  {
   "cell_type": "code",
   "execution_count": 35,
   "id": "a6a71995-ba85-450f-b25c-559daa817e67",
   "metadata": {},
   "outputs": [
    {
     "data": {
      "text/plain": [
       "<seaborn.axisgrid.FacetGrid at 0x1579984d0>"
      ]
     },
     "execution_count": 35,
     "metadata": {},
     "output_type": "execute_result"
    },
    {
     "data": {
      "image/png": "[encoded data removed]",
      "text/plain": [
       "<Figure size 500x500 with 1 Axes>"
      ]
     },
     "metadata": {},
     "output_type": "display_data"
    }
   ],
   "source": [
    "sns.displot(transactions.imputed_data_ii)"
   ]
  },
  {
   "cell_type": "code",
   "execution_count": 36,
   "id": "dd3bc1f5-7ab6-4b03-8411-8bb93219b5ef",
   "metadata": {},
   "outputs": [
    {
     "name": "stdout",
     "output_type": "stream",
     "text": [
      "<class 'pandas.core.frame.DataFrame'>\n",
      "RangeIndex: 68000 entries, 0 to 67999\n",
      "Data columns (total 7 columns):\n",
      " #   Column            Non-Null Count  Dtype         \n",
      "---  ------            --------------  -----         \n",
      " 0   transaction_id    68000 non-null  object        \n",
      " 1   customer_id       68000 non-null  object        \n",
      " 2   timestamp         68000 non-null  datetime64[ns]\n",
      " 3   amount            64444 non-null  float64       \n",
      " 4   transaction_type  68000 non-null  object        \n",
      " 5   imputed_amount    68000 non-null  float64       \n",
      " 6   imputed_data_ii   68000 non-null  float64       \n",
      "dtypes: datetime64[ns](1), float64(3), object(3)\n",
      "memory usage: 3.6+ MB\n"
     ]
    }
   ],
   "source": [
    "transactions.info()"
   ]
  },
  {
   "cell_type": "code",
   "execution_count": 37,
   "id": "3c378457-230d-406c-b8c8-0135e5e70bea",
   "metadata": {},
   "outputs": [],
   "source": [
    "transactions.to_csv(\"data/transactions_cleaned.csv\")"
   ]
  },
  {
   "cell_type": "markdown",
   "id": "52e956f6-1ba9-4eba-9f1b-d7b7e5f4ba6e",
   "metadata": {},
   "source": [
    "## Telcos data"
   ]
  },
  {
   "cell_type": "code",
   "execution_count": 38,
   "id": "9b243ba7-c6ab-4899-be65-8978e149e60e",
   "metadata": {},
   "outputs": [
    {
     "data": {
      "text/html": [
       "<div>\n",
       "<style scoped>\n",
       "    .dataframe tbody tr th:only-of-type {\n",
       "        vertical-align: middle;\n",
       "    }\n",
       "\n",
       "    .dataframe tbody tr th {\n",
       "        vertical-align: top;\n",
       "    }\n",
       "\n",
       "    .dataframe thead th {\n",
       "        text-align: right;\n",
       "    }\n",
       "</style>\n",
       "<table border=\"1\" class=\"dataframe\">\n",
       "  <thead>\n",
       "    <tr style=\"text-align: right;\">\n",
       "      <th></th>\n",
       "      <th>event_id</th>\n",
       "      <th>customer_id</th>\n",
       "      <th>timestamp</th>\n",
       "      <th>event_type</th>\n",
       "      <th>value</th>\n",
       "    </tr>\n",
       "  </thead>\n",
       "  <tbody>\n",
       "    <tr>\n",
       "      <th>0</th>\n",
       "      <td>TELCO_0</td>\n",
       "      <td>ID_2095</td>\n",
       "      <td>2023-11-29 23:14:59</td>\n",
       "      <td>Airtime Purchase</td>\n",
       "      <td>640.34</td>\n",
       "    </tr>\n",
       "    <tr>\n",
       "      <th>1</th>\n",
       "      <td>TELCO_1</td>\n",
       "      <td>ID_5975</td>\n",
       "      <td>2023-09-27 13:10:31</td>\n",
       "      <td>Airtime Purchase</td>\n",
       "      <td>413.72</td>\n",
       "    </tr>\n",
       "    <tr>\n",
       "      <th>2</th>\n",
       "      <td>TELCO_2</td>\n",
       "      <td>ID_8161</td>\n",
       "      <td>2023-10-20 14:21:50</td>\n",
       "      <td>Call</td>\n",
       "      <td>393.45</td>\n",
       "    </tr>\n",
       "    <tr>\n",
       "      <th>3</th>\n",
       "      <td>TELCO_3</td>\n",
       "      <td>ID_6046</td>\n",
       "      <td>2023-02-10 00:27:13</td>\n",
       "      <td>Data Usage</td>\n",
       "      <td>709.58</td>\n",
       "    </tr>\n",
       "    <tr>\n",
       "      <th>4</th>\n",
       "      <td>TELCO_4</td>\n",
       "      <td>ID_4345</td>\n",
       "      <td>2023-02-24 21:25:53</td>\n",
       "      <td>Call</td>\n",
       "      <td>811.65</td>\n",
       "    </tr>\n",
       "  </tbody>\n",
       "</table>\n",
       "</div>"
      ],
      "text/plain": [
       "  event_id customer_id            timestamp        event_type   value\n",
       "0  TELCO_0     ID_2095  2023-11-29 23:14:59  Airtime Purchase  640.34\n",
       "1  TELCO_1     ID_5975  2023-09-27 13:10:31  Airtime Purchase  413.72\n",
       "2  TELCO_2     ID_8161  2023-10-20 14:21:50              Call  393.45\n",
       "3  TELCO_3     ID_6046  2023-02-10 00:27:13        Data Usage  709.58\n",
       "4  TELCO_4     ID_4345  2023-02-24 21:25:53              Call  811.65"
      ]
     },
     "execution_count": 38,
     "metadata": {},
     "output_type": "execute_result"
    }
   ],
   "source": [
    "telco_data.head()"
   ]
  },
  {
   "cell_type": "code",
   "execution_count": 39,
   "id": "bb30865a-dd32-4036-8eb2-7506e996a1d9",
   "metadata": {},
   "outputs": [],
   "source": [
    "# handle timestamp\n",
    "telco_data.timestamp = pd.to_datetime(telco_data.timestamp)"
   ]
  },
  {
   "cell_type": "code",
   "execution_count": 40,
   "id": "485b75fb-f278-4438-a238-c66476438c2c",
   "metadata": {},
   "outputs": [
    {
     "data": {
      "text/plain": [
       "event_type\n",
       "Data Usage          11039\n",
       "Call                11029\n",
       "Airtime Purchase    10932\n",
       "Name: count, dtype: int64"
      ]
     },
     "execution_count": 40,
     "metadata": {},
     "output_type": "execute_result"
    }
   ],
   "source": [
    "telco_data.event_type.value_counts()"
   ]
  },
  {
   "cell_type": "code",
   "execution_count": 41,
   "id": "2197653a-ab62-4195-8447-0052945f18e5",
   "metadata": {},
   "outputs": [],
   "source": [
    "telco_data.event_type = telco_data.event_type.apply(lambda x: x.lower())"
   ]
  },
  {
   "cell_type": "code",
   "execution_count": 42,
   "id": "55a75bb5-88e5-4295-bb0f-c3cdb627e646",
   "metadata": {},
   "outputs": [
    {
     "data": {
      "text/plain": [
       "event_id          0\n",
       "customer_id       0\n",
       "timestamp         0\n",
       "event_type        0\n",
       "value          1102\n",
       "dtype: int64"
      ]
     },
     "execution_count": 42,
     "metadata": {},
     "output_type": "execute_result"
    }
   ],
   "source": [
    "telco_data.isna().sum()"
   ]
  },
  {
   "cell_type": "code",
   "execution_count": 43,
   "id": "e293dc11-7264-417c-a827-23ccd2297ef2",
   "metadata": {},
   "outputs": [
    {
     "data": {
      "text/plain": [
       "<seaborn.axisgrid.FacetGrid at 0x157d70bd0>"
      ]
     },
     "execution_count": 43,
     "metadata": {},
     "output_type": "execute_result"
    },
    {
     "data": {
      "image/png": "[encoded data removed]",
      "text/plain": [
       "<Figure size 500x500 with 1 Axes>"
      ]
     },
     "metadata": {},
     "output_type": "display_data"
    }
   ],
   "source": [
    "sns.displot(telco_data.value)"
   ]
  },
  {
   "cell_type": "code",
   "execution_count": 44,
   "id": "cf6817a2-9ef5-47b4-b6cc-2dce6d30b428",
   "metadata": {},
   "outputs": [
    {
     "name": "stderr",
     "output_type": "stream",
     "text": [
      "/var/folders/yd/36hqj6y53ks959xgzn2k7htw0000gn/T/ipykernel_87790/3999147190.py:2: SettingWithCopyWarning: \n",
      "A value is trying to be set on a copy of a slice from a DataFrame.\n",
      "Try using .loc[row_indexer,col_indexer] = value instead\n",
      "\n",
      "See the caveats in the documentation: https://pandas.pydata.org/pandas-docs/stable/user_guide/indexing.html#returning-a-view-versus-a-copy\n",
      "  imp_data.event_type = LabelEncoder().fit_transform(imp_data.event_type)\n"
     ]
    }
   ],
   "source": [
    "imp_data = telco_data[['value', 'event_type']]\n",
    "imp_data.event_type = LabelEncoder().fit_transform(imp_data.event_type)\n",
    "\n",
    "value_imputer = KNNImputer(n_neighbors=2, weights=\"uniform\")\n",
    "\n",
    "value_imputer.fit(imp_data)\n",
    "telco_data[\"imputed_value\"] = value_imputer.transform(imp_data)[:, 0]"
   ]
  },
  {
   "cell_type": "code",
   "execution_count": 45,
   "id": "34a85f12-50c9-449b-b31f-83d54c9e8a26",
   "metadata": {},
   "outputs": [
    {
     "data": {
      "text/html": [
       "<div>\n",
       "<style scoped>\n",
       "    .dataframe tbody tr th:only-of-type {\n",
       "        vertical-align: middle;\n",
       "    }\n",
       "\n",
       "    .dataframe tbody tr th {\n",
       "        vertical-align: top;\n",
       "    }\n",
       "\n",
       "    .dataframe thead th {\n",
       "        text-align: right;\n",
       "    }\n",
       "</style>\n",
       "<table border=\"1\" class=\"dataframe\">\n",
       "  <thead>\n",
       "    <tr style=\"text-align: right;\">\n",
       "      <th></th>\n",
       "      <th>event_id</th>\n",
       "      <th>customer_id</th>\n",
       "      <th>timestamp</th>\n",
       "      <th>event_type</th>\n",
       "      <th>value</th>\n",
       "      <th>imputed_value</th>\n",
       "    </tr>\n",
       "  </thead>\n",
       "  <tbody>\n",
       "    <tr>\n",
       "      <th>13814</th>\n",
       "      <td>TELCO_13814</td>\n",
       "      <td>ID_1345</td>\n",
       "      <td>2023-07-08 17:11:23</td>\n",
       "      <td>airtime purchase</td>\n",
       "      <td>353.80</td>\n",
       "      <td>353.80</td>\n",
       "    </tr>\n",
       "    <tr>\n",
       "      <th>15990</th>\n",
       "      <td>TELCO_15990</td>\n",
       "      <td>ID_9273</td>\n",
       "      <td>2023-11-24 02:35:29</td>\n",
       "      <td>call</td>\n",
       "      <td>325.73</td>\n",
       "      <td>325.73</td>\n",
       "    </tr>\n",
       "    <tr>\n",
       "      <th>27516</th>\n",
       "      <td>TELCO_27516</td>\n",
       "      <td>ID_1623</td>\n",
       "      <td>2023-02-15 16:33:18</td>\n",
       "      <td>data usage</td>\n",
       "      <td>495.21</td>\n",
       "      <td>495.21</td>\n",
       "    </tr>\n",
       "    <tr>\n",
       "      <th>6331</th>\n",
       "      <td>TELCO_6331</td>\n",
       "      <td>ID_4106</td>\n",
       "      <td>2023-07-06 09:28:54</td>\n",
       "      <td>data usage</td>\n",
       "      <td>253.60</td>\n",
       "      <td>253.60</td>\n",
       "    </tr>\n",
       "    <tr>\n",
       "      <th>14613</th>\n",
       "      <td>TELCO_14613</td>\n",
       "      <td>ID_6322</td>\n",
       "      <td>2023-11-11 09:22:25</td>\n",
       "      <td>airtime purchase</td>\n",
       "      <td>810.34</td>\n",
       "      <td>810.34</td>\n",
       "    </tr>\n",
       "  </tbody>\n",
       "</table>\n",
       "</div>"
      ],
      "text/plain": [
       "          event_id customer_id           timestamp        event_type   value  \\\n",
       "13814  TELCO_13814     ID_1345 2023-07-08 17:11:23  airtime purchase  353.80   \n",
       "15990  TELCO_15990     ID_9273 2023-11-24 02:35:29              call  325.73   \n",
       "27516  TELCO_27516     ID_1623 2023-02-15 16:33:18        data usage  495.21   \n",
       "6331    TELCO_6331     ID_4106 2023-07-06 09:28:54        data usage  253.60   \n",
       "14613  TELCO_14613     ID_6322 2023-11-11 09:22:25  airtime purchase  810.34   \n",
       "\n",
       "       imputed_value  \n",
       "13814         353.80  \n",
       "15990         325.73  \n",
       "27516         495.21  \n",
       "6331          253.60  \n",
       "14613         810.34  "
      ]
     },
     "execution_count": 45,
     "metadata": {},
     "output_type": "execute_result"
    }
   ],
   "source": [
    "telco_data.sample(5)"
   ]
  },
  {
   "cell_type": "code",
   "execution_count": 46,
   "id": "42b6bab3-8ad2-43f7-a263-ff67279e7e75",
   "metadata": {},
   "outputs": [
    {
     "data": {
      "text/plain": [
       "<seaborn.axisgrid.FacetGrid at 0x157e4cad0>"
      ]
     },
     "execution_count": 46,
     "metadata": {},
     "output_type": "execute_result"
    },
    {
     "data": {
      "image/png": "[encoded data removed]",
      "text/plain": [
       "<Figure size 500x500 with 1 Axes>"
      ]
     },
     "metadata": {},
     "output_type": "display_data"
    }
   ],
   "source": [
    "sns.displot(telco_data.imputed_value)"
   ]
  },
  {
   "cell_type": "code",
   "execution_count": null,
   "id": "e5b70d62-8849-4087-9ef7-86589fc1edeb",
   "metadata": {},
   "outputs": [],
   "source": []
  },
  {
   "cell_type": "markdown",
   "id": "33470892-3826-4a76-a72a-bef5b4dd4e3b",
   "metadata": {},
   "source": [
    "## Repayment history"
   ]
  },
  {
   "cell_type": "code",
   "execution_count": 47,
   "id": "e4e9eed8-b887-47af-8543-29b168011d72",
   "metadata": {},
   "outputs": [
    {
     "data": {
      "text/html": [
       "<div>\n",
       "<style scoped>\n",
       "    .dataframe tbody tr th:only-of-type {\n",
       "        vertical-align: middle;\n",
       "    }\n",
       "\n",
       "    .dataframe tbody tr th {\n",
       "        vertical-align: top;\n",
       "    }\n",
       "\n",
       "    .dataframe thead th {\n",
       "        text-align: right;\n",
       "    }\n",
       "</style>\n",
       "<table border=\"1\" class=\"dataframe\">\n",
       "  <thead>\n",
       "    <tr style=\"text-align: right;\">\n",
       "      <th></th>\n",
       "      <th>repayment_id</th>\n",
       "      <th>customer_id</th>\n",
       "      <th>loan_id</th>\n",
       "      <th>timestamp</th>\n",
       "      <th>repayment_amount</th>\n",
       "      <th>status</th>\n",
       "    </tr>\n",
       "  </thead>\n",
       "  <tbody>\n",
       "    <tr>\n",
       "      <th>0</th>\n",
       "      <td>REPAY_0</td>\n",
       "      <td>ID_2276</td>\n",
       "      <td>LOAN_14878</td>\n",
       "      <td>2023-12-03 01:07:12</td>\n",
       "      <td>488372.83</td>\n",
       "      <td>On Time</td>\n",
       "    </tr>\n",
       "    <tr>\n",
       "      <th>1</th>\n",
       "      <td>REPAY_1</td>\n",
       "      <td>ID_4732</td>\n",
       "      <td>LOAN_9922</td>\n",
       "      <td>2023-06-21 03:14:08</td>\n",
       "      <td>508362.61</td>\n",
       "      <td>Late</td>\n",
       "    </tr>\n",
       "    <tr>\n",
       "      <th>2</th>\n",
       "      <td>REPAY_2</td>\n",
       "      <td>ID_5420</td>\n",
       "      <td>LOAN_7693</td>\n",
       "      <td>2023-06-21 06:05:06</td>\n",
       "      <td>508931.90</td>\n",
       "      <td>On Time</td>\n",
       "    </tr>\n",
       "    <tr>\n",
       "      <th>3</th>\n",
       "      <td>REPAY_3</td>\n",
       "      <td>ID_2253</td>\n",
       "      <td>LOAN_7767</td>\n",
       "      <td>2023-04-26 16:14:35</td>\n",
       "      <td>39313.39</td>\n",
       "      <td>On Time</td>\n",
       "    </tr>\n",
       "    <tr>\n",
       "      <th>4</th>\n",
       "      <td>REPAY_4</td>\n",
       "      <td>ID_2462</td>\n",
       "      <td>LOAN_17370</td>\n",
       "      <td>2023-03-30 10:31:55</td>\n",
       "      <td>52647.67</td>\n",
       "      <td>Late</td>\n",
       "    </tr>\n",
       "  </tbody>\n",
       "</table>\n",
       "</div>"
      ],
      "text/plain": [
       "  repayment_id customer_id     loan_id            timestamp  repayment_amount  \\\n",
       "0      REPAY_0     ID_2276  LOAN_14878  2023-12-03 01:07:12         488372.83   \n",
       "1      REPAY_1     ID_4732   LOAN_9922  2023-06-21 03:14:08         508362.61   \n",
       "2      REPAY_2     ID_5420   LOAN_7693  2023-06-21 06:05:06         508931.90   \n",
       "3      REPAY_3     ID_2253   LOAN_7767  2023-04-26 16:14:35          39313.39   \n",
       "4      REPAY_4     ID_2462  LOAN_17370  2023-03-30 10:31:55          52647.67   \n",
       "\n",
       "    status  \n",
       "0  On Time  \n",
       "1     Late  \n",
       "2  On Time  \n",
       "3  On Time  \n",
       "4     Late  "
      ]
     },
     "execution_count": 47,
     "metadata": {},
     "output_type": "execute_result"
    }
   ],
   "source": [
    "repayment_history.head()"
   ]
  },
  {
   "cell_type": "code",
   "execution_count": 48,
   "id": "60406fce-bebd-43cf-97a4-b1ed748d490e",
   "metadata": {},
   "outputs": [
    {
     "data": {
      "text/plain": [
       "status\n",
       "On Time    12813\n",
       "Late        3703\n",
       "Missed      1834\n",
       "Name: count, dtype: int64"
      ]
     },
     "execution_count": 48,
     "metadata": {},
     "output_type": "execute_result"
    }
   ],
   "source": [
    "repayment_history.status.value_counts()"
   ]
  },
  {
   "cell_type": "code",
   "execution_count": 49,
   "id": "e33a8757-1148-44f5-8e97-857407eb42e9",
   "metadata": {},
   "outputs": [
    {
     "data": {
      "text/plain": [
       "customer_id\n",
       "ID_8120    8\n",
       "ID_6702    8\n",
       "ID_6061    8\n",
       "ID_9396    8\n",
       "ID_5161    8\n",
       "          ..\n",
       "ID_5636    1\n",
       "ID_3232    1\n",
       "ID_3704    1\n",
       "ID_9669    1\n",
       "ID_5843    1\n",
       "Name: count, Length: 8358, dtype: int64"
      ]
     },
     "execution_count": 49,
     "metadata": {},
     "output_type": "execute_result"
    }
   ],
   "source": [
    "repayment_history.customer_id.value_counts()"
   ]
  },
  {
   "cell_type": "code",
   "execution_count": 50,
   "id": "7d915d46-18f7-4993-a7a6-cb77384c7025",
   "metadata": {},
   "outputs": [],
   "source": [
    "repayment_history.timestamp = pd.to_datetime(repayment_history.timestamp)"
   ]
  },
  {
   "cell_type": "code",
   "execution_count": 51,
   "id": "c7f91596-c238-4f28-8b19-d981b8e469b4",
   "metadata": {},
   "outputs": [
    {
     "data": {
      "text/plain": [
       "repayment_id           0\n",
       "customer_id            0\n",
       "loan_id                0\n",
       "timestamp              0\n",
       "repayment_amount    1835\n",
       "status                 0\n",
       "dtype: int64"
      ]
     },
     "execution_count": 51,
     "metadata": {},
     "output_type": "execute_result"
    }
   ],
   "source": [
    "repayment_history.isna().sum()"
   ]
  },
  {
   "cell_type": "code",
   "execution_count": 52,
   "id": "d145bd6a-fb92-4417-a4dd-99cf33405878",
   "metadata": {},
   "outputs": [
    {
     "name": "stderr",
     "output_type": "stream",
     "text": [
      "/var/folders/yd/36hqj6y53ks959xgzn2k7htw0000gn/T/ipykernel_87790/3051004785.py:2: SettingWithCopyWarning: \n",
      "A value is trying to be set on a copy of a slice from a DataFrame.\n",
      "Try using .loc[row_indexer,col_indexer] = value instead\n",
      "\n",
      "See the caveats in the documentation: https://pandas.pydata.org/pandas-docs/stable/user_guide/indexing.html#returning-a-view-versus-a-copy\n",
      "  imp_data.status = LabelEncoder().fit_transform(imp_data.status)\n"
     ]
    }
   ],
   "source": [
    "imp_data = repayment_history[['repayment_amount', 'status']]\n",
    "imp_data.status = LabelEncoder().fit_transform(imp_data.status)\n",
    "\n",
    "repayment_amount_imputer = KNNImputer(n_neighbors=2, weights=\"uniform\")\n",
    "\n",
    "repayment_amount_imputer.fit(imp_data)\n",
    "repayment_history[\"imputed_repayment_amount\"] = repayment_amount_imputer.transform(imp_data)[:, 0]"
   ]
  },
  {
   "cell_type": "code",
   "execution_count": 53,
   "id": "b6e83a19-1efc-4f45-9d95-61549b9686c6",
   "metadata": {},
   "outputs": [
    {
     "data": {
      "text/html": [
       "<div>\n",
       "<style scoped>\n",
       "    .dataframe tbody tr th:only-of-type {\n",
       "        vertical-align: middle;\n",
       "    }\n",
       "\n",
       "    .dataframe tbody tr th {\n",
       "        vertical-align: top;\n",
       "    }\n",
       "\n",
       "    .dataframe thead th {\n",
       "        text-align: right;\n",
       "    }\n",
       "</style>\n",
       "<table border=\"1\" class=\"dataframe\">\n",
       "  <thead>\n",
       "    <tr style=\"text-align: right;\">\n",
       "      <th></th>\n",
       "      <th>repayment_id</th>\n",
       "      <th>customer_id</th>\n",
       "      <th>loan_id</th>\n",
       "      <th>timestamp</th>\n",
       "      <th>repayment_amount</th>\n",
       "      <th>status</th>\n",
       "      <th>imputed_repayment_amount</th>\n",
       "    </tr>\n",
       "  </thead>\n",
       "  <tbody>\n",
       "    <tr>\n",
       "      <th>1223</th>\n",
       "      <td>REPAY_1223</td>\n",
       "      <td>ID_8146</td>\n",
       "      <td>LOAN_5806</td>\n",
       "      <td>2023-12-09 06:17:15</td>\n",
       "      <td>506303.89</td>\n",
       "      <td>On Time</td>\n",
       "      <td>506303.89</td>\n",
       "    </tr>\n",
       "    <tr>\n",
       "      <th>12331</th>\n",
       "      <td>REPAY_12331</td>\n",
       "      <td>ID_3238</td>\n",
       "      <td>LOAN_4499</td>\n",
       "      <td>2023-09-07 16:47:23</td>\n",
       "      <td>32693.85</td>\n",
       "      <td>On Time</td>\n",
       "      <td>32693.85</td>\n",
       "    </tr>\n",
       "    <tr>\n",
       "      <th>16291</th>\n",
       "      <td>REPAY_16291</td>\n",
       "      <td>ID_1921</td>\n",
       "      <td>LOAN_18093</td>\n",
       "      <td>2023-10-21 23:12:28</td>\n",
       "      <td>27441.50</td>\n",
       "      <td>On Time</td>\n",
       "      <td>27441.50</td>\n",
       "    </tr>\n",
       "    <tr>\n",
       "      <th>1339</th>\n",
       "      <td>REPAY_1339</td>\n",
       "      <td>ID_9995</td>\n",
       "      <td>LOAN_6802</td>\n",
       "      <td>2023-09-04 21:27:50</td>\n",
       "      <td>496175.27</td>\n",
       "      <td>On Time</td>\n",
       "      <td>496175.27</td>\n",
       "    </tr>\n",
       "    <tr>\n",
       "      <th>16775</th>\n",
       "      <td>REPAY_16775</td>\n",
       "      <td>ID_5739</td>\n",
       "      <td>LOAN_13814</td>\n",
       "      <td>2023-05-27 12:16:50</td>\n",
       "      <td>511090.72</td>\n",
       "      <td>On Time</td>\n",
       "      <td>511090.72</td>\n",
       "    </tr>\n",
       "  </tbody>\n",
       "</table>\n",
       "</div>"
      ],
      "text/plain": [
       "      repayment_id customer_id     loan_id           timestamp  \\\n",
       "1223    REPAY_1223     ID_8146   LOAN_5806 2023-12-09 06:17:15   \n",
       "12331  REPAY_12331     ID_3238   LOAN_4499 2023-09-07 16:47:23   \n",
       "16291  REPAY_16291     ID_1921  LOAN_18093 2023-10-21 23:12:28   \n",
       "1339    REPAY_1339     ID_9995   LOAN_6802 2023-09-04 21:27:50   \n",
       "16775  REPAY_16775     ID_5739  LOAN_13814 2023-05-27 12:16:50   \n",
       "\n",
       "       repayment_amount   status  imputed_repayment_amount  \n",
       "1223          506303.89  On Time                 506303.89  \n",
       "12331          32693.85  On Time                  32693.85  \n",
       "16291          27441.50  On Time                  27441.50  \n",
       "1339          496175.27  On Time                 496175.27  \n",
       "16775         511090.72  On Time                 511090.72  "
      ]
     },
     "execution_count": 53,
     "metadata": {},
     "output_type": "execute_result"
    }
   ],
   "source": [
    "repayment_history.sample(5)"
   ]
  },
  {
   "cell_type": "code",
   "execution_count": 54,
   "id": "52869434-6833-44e0-8bdc-497f82529618",
   "metadata": {},
   "outputs": [],
   "source": [
    "repayment_history.status = repayment_history.status.apply(lambda x: x.lower().replace(\" \", \"_\"))"
   ]
  },
  {
   "cell_type": "code",
   "execution_count": 55,
   "id": "f02eaf02-a147-4d72-b446-bc8451cc6553",
   "metadata": {},
   "outputs": [
    {
     "data": {
      "text/html": [
       "<div>\n",
       "<style scoped>\n",
       "    .dataframe tbody tr th:only-of-type {\n",
       "        vertical-align: middle;\n",
       "    }\n",
       "\n",
       "    .dataframe tbody tr th {\n",
       "        vertical-align: top;\n",
       "    }\n",
       "\n",
       "    .dataframe thead th {\n",
       "        text-align: right;\n",
       "    }\n",
       "</style>\n",
       "<table border=\"1\" class=\"dataframe\">\n",
       "  <thead>\n",
       "    <tr style=\"text-align: right;\">\n",
       "      <th></th>\n",
       "      <th>repayment_id</th>\n",
       "      <th>customer_id</th>\n",
       "      <th>loan_id</th>\n",
       "      <th>timestamp</th>\n",
       "      <th>repayment_amount</th>\n",
       "      <th>status</th>\n",
       "      <th>imputed_repayment_amount</th>\n",
       "    </tr>\n",
       "  </thead>\n",
       "  <tbody>\n",
       "    <tr>\n",
       "      <th>6765</th>\n",
       "      <td>REPAY_6765</td>\n",
       "      <td>ID_1747</td>\n",
       "      <td>LOAN_9472</td>\n",
       "      <td>2023-09-24 17:58:24</td>\n",
       "      <td>56729.65</td>\n",
       "      <td>on_time</td>\n",
       "      <td>56729.65</td>\n",
       "    </tr>\n",
       "    <tr>\n",
       "      <th>13628</th>\n",
       "      <td>REPAY_13628</td>\n",
       "      <td>ID_4378</td>\n",
       "      <td>LOAN_401</td>\n",
       "      <td>2023-08-15 18:07:50</td>\n",
       "      <td>38876.36</td>\n",
       "      <td>on_time</td>\n",
       "      <td>38876.36</td>\n",
       "    </tr>\n",
       "    <tr>\n",
       "      <th>2627</th>\n",
       "      <td>REPAY_2627</td>\n",
       "      <td>ID_4455</td>\n",
       "      <td>LOAN_7862</td>\n",
       "      <td>2023-06-24 11:05:31</td>\n",
       "      <td>491167.27</td>\n",
       "      <td>on_time</td>\n",
       "      <td>491167.27</td>\n",
       "    </tr>\n",
       "    <tr>\n",
       "      <th>14229</th>\n",
       "      <td>REPAY_14229</td>\n",
       "      <td>ID_6420</td>\n",
       "      <td>LOAN_16290</td>\n",
       "      <td>2023-12-17 16:46:42</td>\n",
       "      <td>43651.09</td>\n",
       "      <td>on_time</td>\n",
       "      <td>43651.09</td>\n",
       "    </tr>\n",
       "    <tr>\n",
       "      <th>15669</th>\n",
       "      <td>REPAY_15669</td>\n",
       "      <td>ID_2816</td>\n",
       "      <td>LOAN_4823</td>\n",
       "      <td>2023-02-17 07:46:59</td>\n",
       "      <td>57029.71</td>\n",
       "      <td>late</td>\n",
       "      <td>57029.71</td>\n",
       "    </tr>\n",
       "  </tbody>\n",
       "</table>\n",
       "</div>"
      ],
      "text/plain": [
       "      repayment_id customer_id     loan_id           timestamp  \\\n",
       "6765    REPAY_6765     ID_1747   LOAN_9472 2023-09-24 17:58:24   \n",
       "13628  REPAY_13628     ID_4378    LOAN_401 2023-08-15 18:07:50   \n",
       "2627    REPAY_2627     ID_4455   LOAN_7862 2023-06-24 11:05:31   \n",
       "14229  REPAY_14229     ID_6420  LOAN_16290 2023-12-17 16:46:42   \n",
       "15669  REPAY_15669     ID_2816   LOAN_4823 2023-02-17 07:46:59   \n",
       "\n",
       "       repayment_amount   status  imputed_repayment_amount  \n",
       "6765           56729.65  on_time                  56729.65  \n",
       "13628          38876.36  on_time                  38876.36  \n",
       "2627          491167.27  on_time                 491167.27  \n",
       "14229          43651.09  on_time                  43651.09  \n",
       "15669          57029.71     late                  57029.71  "
      ]
     },
     "execution_count": 55,
     "metadata": {},
     "output_type": "execute_result"
    }
   ],
   "source": [
    "repayment_history.sample(5)"
   ]
  },
  {
   "cell_type": "code",
   "execution_count": 56,
   "id": "cd3acdba-3a56-4968-8e1d-552cd198735f",
   "metadata": {},
   "outputs": [],
   "source": [
    "repayment_history.to_csv(\"data/repayment_history_cleaned.csv\")"
   ]
  },
  {
   "cell_type": "code",
   "execution_count": null,
   "id": "0ce5784d-a541-465e-9882-5c443a63c81b",
   "metadata": {},
   "outputs": [],
   "source": []
  },
  {
   "cell_type": "markdown",
   "id": "f44dd20a-66bc-4c6d-82f0-4812032f7d96",
   "metadata": {},
   "source": [
    "## Merge data"
   ]
  },
  {
   "cell_type": "code",
   "execution_count": 57,
   "id": "ec2a7192-a563-4d92-9d83-831dc532a277",
   "metadata": {},
   "outputs": [
    {
     "data": {
      "text/html": [
       "<div>\n",
       "<style scoped>\n",
       "    .dataframe tbody tr th:only-of-type {\n",
       "        vertical-align: middle;\n",
       "    }\n",
       "\n",
       "    .dataframe tbody tr th {\n",
       "        vertical-align: top;\n",
       "    }\n",
       "\n",
       "    .dataframe thead th {\n",
       "        text-align: right;\n",
       "    }\n",
       "</style>\n",
       "<table border=\"1\" class=\"dataframe\">\n",
       "  <thead>\n",
       "    <tr style=\"text-align: right;\">\n",
       "      <th></th>\n",
       "      <th>transaction_id</th>\n",
       "      <th>customer_id</th>\n",
       "      <th>timestamp</th>\n",
       "      <th>amount</th>\n",
       "      <th>transaction_type</th>\n",
       "      <th>imputed_amount</th>\n",
       "      <th>imputed_data_ii</th>\n",
       "    </tr>\n",
       "  </thead>\n",
       "  <tbody>\n",
       "    <tr>\n",
       "      <th>0</th>\n",
       "      <td>TX_0</td>\n",
       "      <td>ID_8915</td>\n",
       "      <td>2023-10-13 18:54:46</td>\n",
       "      <td>174177.09</td>\n",
       "      <td>Deposit</td>\n",
       "      <td>174177.09</td>\n",
       "      <td>174177.09</td>\n",
       "    </tr>\n",
       "    <tr>\n",
       "      <th>1</th>\n",
       "      <td>TX_1</td>\n",
       "      <td>ID_6424</td>\n",
       "      <td>2023-07-14 19:26:13</td>\n",
       "      <td>102255.66</td>\n",
       "      <td>Purchase</td>\n",
       "      <td>102255.66</td>\n",
       "      <td>102255.66</td>\n",
       "    </tr>\n",
       "    <tr>\n",
       "      <th>2</th>\n",
       "      <td>TX_2</td>\n",
       "      <td>ID_876</td>\n",
       "      <td>2023-04-10 18:05:07</td>\n",
       "      <td>238792.30</td>\n",
       "      <td>Purchase</td>\n",
       "      <td>238792.30</td>\n",
       "      <td>238792.30</td>\n",
       "    </tr>\n",
       "    <tr>\n",
       "      <th>3</th>\n",
       "      <td>TX_3</td>\n",
       "      <td>ID_1398</td>\n",
       "      <td>2023-04-07 18:12:50</td>\n",
       "      <td>233231.78</td>\n",
       "      <td>Deposit</td>\n",
       "      <td>233231.78</td>\n",
       "      <td>233231.78</td>\n",
       "    </tr>\n",
       "    <tr>\n",
       "      <th>4</th>\n",
       "      <td>TX_4</td>\n",
       "      <td>ID_2116</td>\n",
       "      <td>2023-01-26 19:23:26</td>\n",
       "      <td>202310.96</td>\n",
       "      <td>Withdrawal</td>\n",
       "      <td>202310.96</td>\n",
       "      <td>202310.96</td>\n",
       "    </tr>\n",
       "  </tbody>\n",
       "</table>\n",
       "</div>"
      ],
      "text/plain": [
       "  transaction_id customer_id           timestamp     amount transaction_type  \\\n",
       "0           TX_0     ID_8915 2023-10-13 18:54:46  174177.09          Deposit   \n",
       "1           TX_1     ID_6424 2023-07-14 19:26:13  102255.66         Purchase   \n",
       "2           TX_2      ID_876 2023-04-10 18:05:07  238792.30         Purchase   \n",
       "3           TX_3     ID_1398 2023-04-07 18:12:50  233231.78          Deposit   \n",
       "4           TX_4     ID_2116 2023-01-26 19:23:26  202310.96       Withdrawal   \n",
       "\n",
       "   imputed_amount  imputed_data_ii  \n",
       "0       174177.09        174177.09  \n",
       "1       102255.66        102255.66  \n",
       "2       238792.30        238792.30  \n",
       "3       233231.78        233231.78  \n",
       "4       202310.96        202310.96  "
      ]
     },
     "execution_count": 57,
     "metadata": {},
     "output_type": "execute_result"
    }
   ],
   "source": [
    "transactions.head()"
   ]
  },
  {
   "cell_type": "code",
   "execution_count": 58,
   "id": "23762e19-6155-4441-b5d4-b938de73d659",
   "metadata": {},
   "outputs": [
    {
     "data": {
      "text/plain": [
       "transaction_type\n",
       "Withdrawal    22954\n",
       "Deposit       22659\n",
       "Purchase      22387\n",
       "Name: count, dtype: int64"
      ]
     },
     "execution_count": 58,
     "metadata": {},
     "output_type": "execute_result"
    }
   ],
   "source": [
    "transactions.transaction_type.value_counts()"
   ]
  },
  {
   "cell_type": "code",
   "execution_count": 62,
   "id": "99dcbfee-6b75-44c3-ba0c-d2ec6c3d9731",
   "metadata": {},
   "outputs": [
    {
     "name": "stderr",
     "output_type": "stream",
     "text": [
      "/var/folders/yd/36hqj6y53ks959xgzn2k7htw0000gn/T/ipykernel_87790/650025356.py:5: FutureWarning: When grouping with a length-1 list-like, you will need to pass a length-1 tuple to get_group in a future version of pandas. Pass `(name,)` instead of `name` to silence this warning.\n",
      "  group = customer_group.get_group(x)\n",
      "/var/folders/yd/36hqj6y53ks959xgzn2k7htw0000gn/T/ipykernel_87790/650025356.py:7: SettingWithCopyWarning: \n",
      "A value is trying to be set on a copy of a slice from a DataFrame\n",
      "\n",
      "See the caveats in the documentation: https://pandas.pydata.org/pandas-docs/stable/user_guide/indexing.html#returning-a-view-versus-a-copy\n",
      "  group.sort_values(by=[\"timestamp\"], inplace=True)\n"
     ]
    }
   ],
   "source": [
    "agg_trans_data = []\n",
    "customer_group = transactions.groupby(['customer_id'])\n",
    "for i, x in enumerate(customer_group.groups):\n",
    "    group = customer_group.get_group(x)\n",
    "    group.sort_values(by=[\"timestamp\"], inplace=True)\n",
    "\n",
    "    deposits = group[group.transaction_type=='Deposit']\n",
    "    purchases = group[group.transaction_type=='Purchase']\n",
    "    withdrawal = group[group.transaction_type=='Withdrawal']\n",
    "\n",
    "    min_date = group.timestamp.min()\n",
    "    max_date = group.timestamp.max()\n",
    "\n",
    "    obj = {\n",
    "        'customer': x,\n",
    "        'min_date': min_date,\n",
    "        'max_date': max_date,\n",
    "        'total_count': len(group),\n",
    "        'no_deposits': deposits.shape[0],\n",
    "        'no_purchases': purchases.shape[0],\n",
    "        'no_withdrawal': withdrawal.shape[0],\n",
    "        'avg_amount': group['imputed_amount'].mean(),\n",
    "        'avg_amount_deposits': deposits['imputed_amount'].mean(),\n",
    "        'avg_amount_purchases': purchases['imputed_amount'].mean(),\n",
    "        'avg_amount_withdrawal': withdrawal['imputed_amount'].mean(),\n",
    "    }\n",
    "    agg_trans_data.append(obj)"
   ]
  },
  {
   "cell_type": "code",
   "execution_count": 63,
   "id": "2ee96b6c-e537-49a5-a036-5e7bc3067d2a",
   "metadata": {},
   "outputs": [
    {
     "data": {
      "text/plain": [
       "[{'customer': 'ID_0',\n",
       "  'min_date': Timestamp('2023-02-21 15:04:46'),\n",
       "  'max_date': Timestamp('2023-12-22 15:28:52'),\n",
       "  'total_count': 10,\n",
       "  'no_deposits': 2,\n",
       "  'no_purchases': 5,\n",
       "  'no_withdrawal': 3,\n",
       "  'avg_amount': 246626.698,\n",
       "  'avg_amount_deposits': 292806.775,\n",
       "  'avg_amount_purchases': 242990.22999999998,\n",
       "  'avg_amount_withdrawal': 221900.76},\n",
       " {'customer': 'ID_1',\n",
       "  'min_date': Timestamp('2023-01-12 19:08:06'),\n",
       "  'max_date': Timestamp('2023-09-13 02:01:09'),\n",
       "  'total_count': 4,\n",
       "  'no_deposits': 2,\n",
       "  'no_purchases': 2,\n",
       "  'no_withdrawal': 0,\n",
       "  'avg_amount': 105919.43500000001,\n",
       "  'avg_amount_deposits': 84014.955,\n",
       "  'avg_amount_purchases': 127823.91500000001,\n",
       "  'avg_amount_withdrawal': nan},\n",
       " {'customer': 'ID_10',\n",
       "  'min_date': Timestamp('2023-01-30 03:49:37'),\n",
       "  'max_date': Timestamp('2023-12-29 04:40:14'),\n",
       "  'total_count': 6,\n",
       "  'no_deposits': 1,\n",
       "  'no_purchases': 3,\n",
       "  'no_withdrawal': 2,\n",
       "  'avg_amount': 268395.60333333333,\n",
       "  'avg_amount_deposits': 185432.02,\n",
       "  'avg_amount_purchases': 291724.0933333333,\n",
       "  'avg_amount_withdrawal': 274884.66000000003},\n",
       " {'customer': 'ID_100',\n",
       "  'min_date': Timestamp('2023-02-14 10:28:32'),\n",
       "  'max_date': Timestamp('2023-12-06 21:57:14'),\n",
       "  'total_count': 13,\n",
       "  'no_deposits': 6,\n",
       "  'no_purchases': 1,\n",
       "  'no_withdrawal': 6,\n",
       "  'avg_amount': 105225.89076923075,\n",
       "  'avg_amount_deposits': 86466.96833333332,\n",
       "  'avg_amount_purchases': 95431.62,\n",
       "  'avg_amount_withdrawal': 125617.19166666667},\n",
       " {'customer': 'ID_1000',\n",
       "  'min_date': Timestamp('2023-05-21 03:21:05'),\n",
       "  'max_date': Timestamp('2023-12-14 17:26:13'),\n",
       "  'total_count': 5,\n",
       "  'no_deposits': 1,\n",
       "  'no_purchases': 2,\n",
       "  'no_withdrawal': 2,\n",
       "  'avg_amount': 229908.11200000002,\n",
       "  'avg_amount_deposits': 201027.46,\n",
       "  'avg_amount_purchases': 255558.53,\n",
       "  'avg_amount_withdrawal': 218698.02000000002}]"
      ]
     },
     "execution_count": 63,
     "metadata": {},
     "output_type": "execute_result"
    }
   ],
   "source": [
    "agg_trans_data[:5]"
   ]
  },
  {
   "cell_type": "markdown",
   "id": "f38832f9-c998-49d8-9b8e-7662b055f168",
   "metadata": {},
   "source": [
    "# Feature Engineering"
   ]
  },
  {
   "cell_type": "code",
   "execution_count": null,
   "id": "71fff051-8a9d-41eb-b18c-fcbb2780b130",
   "metadata": {},
   "outputs": [],
   "source": []
  },
  {
   "cell_type": "code",
   "execution_count": null,
   "id": "f801c578-d4d1-4d2b-af4a-32c0b008d878",
   "metadata": {},
   "outputs": [],
   "source": []
  },
  {
   "cell_type": "code",
   "execution_count": null,
   "id": "23339e1a-dc40-4efa-8307-96a0c990471f",
   "metadata": {},
   "outputs": [],
   "source": []
  },
  {
   "cell_type": "code",
   "execution_count": null,
   "id": "35652318-de63-4b69-abaf-0083494b16f2",
   "metadata": {},
   "outputs": [],
   "source": []
  },
  {
   "cell_type": "code",
   "execution_count": null,
   "id": "8916f5d1-efbb-4fc2-8058-608471ffd13d",
   "metadata": {},
   "outputs": [],
   "source": []
  },
  {
   "cell_type": "code",
   "execution_count": null,
   "id": "6e88c6d7-fd2f-48c8-ada3-f8213fad1b4a",
   "metadata": {},
   "outputs": [],
   "source": []
  },
  {
   "cell_type": "code",
   "execution_count": null,
   "id": "bf777f30-e356-4811-b603-6d8b9a61a62c",
   "metadata": {},
   "outputs": [],
   "source": []
  },
  {
   "cell_type": "code",
   "execution_count": null,
   "id": "a23d0599-b08c-4598-b63d-c9ae4b217edb",
   "metadata": {},
   "outputs": [],
   "source": []
  },
  {
   "cell_type": "code",
   "execution_count": null,
   "id": "2fad0801-d554-4af0-8555-4201139531af",
   "metadata": {},
   "outputs": [],
   "source": []
  },
  {
   "cell_type": "code",
   "execution_count": null,
   "id": "a07fb9d3-5d53-4995-af06-51827e69cefa",
   "metadata": {},
   "outputs": [],
   "source": []
  },
  {
   "cell_type": "code",
   "execution_count": null,
   "id": "91b6a179-d136-4d5a-8da4-7b75e17a197b",
   "metadata": {},
   "outputs": [],
   "source": []
  },
  {
   "cell_type": "code",
   "execution_count": null,
   "id": "d7a6eb3d-f106-4347-8c33-d5bec06965fb",
   "metadata": {},
   "outputs": [],
   "source": []
  },
  {
   "cell_type": "code",
   "execution_count": null,
   "id": "0c517364-d718-4982-8ddc-b9cab39e633b",
   "metadata": {},
   "outputs": [],
   "source": []
  },
  {
   "cell_type": "code",
   "execution_count": null,
   "id": "9a5a77e4-9f5d-478c-bf49-14a8f1a9af8a",
   "metadata": {},
   "outputs": [],
   "source": []
  },
  {
   "cell_type": "code",
   "execution_count": null,
   "id": "f16bfd52-de4a-410c-8115-010b3caf29bd",
   "metadata": {},
   "outputs": [],
   "source": []
  },
  {
   "cell_type": "code",
   "execution_count": null,
   "id": "0de7b416-908e-49b6-8606-6666c0089290",
   "metadata": {},
   "outputs": [],
   "source": []
  }
 ],
 "metadata": {
  "kernelspec": {
   "display_name": "Python 3 (ipykernel)",
   "language": "python",
   "name": "python3"
  },
  "language_info": {
   "codemirror_mode": {
    "name": "ipython",
    "version": 3
   },
   "file_extension": ".py",
   "mimetype": "text/x-python",
   "name": "python",
   "nbconvert_exporter": "python",
   "pygments_lexer": "ipython3",
   "version": "3.11.8"
  }
 },
 "nbformat": 4,
 "nbformat_minor": 5
}
